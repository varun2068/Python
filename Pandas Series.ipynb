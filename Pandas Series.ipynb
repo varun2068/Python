{
  "nbformat": 4,
  "nbformat_minor": 0,
  "metadata": {
    "colab": {
      "name": "Pandas.ipynb",
      "provenance": [],
      "authorship_tag": "ABX9TyNnRQj057Q2KktjJDtjMo9I",
      "include_colab_link": true
    },
    "kernelspec": {
      "name": "python3",
      "display_name": "Python 3"
    }
  },
  "cells": [
    {
      "cell_type": "markdown",
      "metadata": {
        "id": "view-in-github",
        "colab_type": "text"
      },
      "source": [
        "<a href=\"https://colab.research.google.com/github/varun2068/Python/blob/main/Pandas%20Series.ipynb\" target=\"_parent\"><img src=\"https://colab.research.google.com/assets/colab-badge.svg\" alt=\"Open In Colab\"/></a>"
      ]
    },
    {
      "cell_type": "markdown",
      "metadata": {
        "id": "jm1stJU9dn0B"
      },
      "source": [
        "#**Introduction To Pandas**"
      ]
    },
    {
      "cell_type": "code",
      "metadata": {
        "id": "wRFR0Cg8cuAY"
      },
      "source": [
        "import pandas as pd\r\n",
        "import numpy as np"
      ],
      "execution_count": null,
      "outputs": []
    },
    {
      "cell_type": "markdown",
      "metadata": {
        "id": "QiO57YBndmW-"
      },
      "source": [
        "##**Panda Series**"
      ]
    },
    {
      "cell_type": "markdown",
      "metadata": {
        "id": "uM7rzv9jguEw"
      },
      "source": [
        "Here are the **'Group of Seven'** which is political formed by Japan, Canada, France, Germany, Italy, United Kingdom and The United States. We are analyzing the population and for that we are using *panda.Series* object.\r\n",
        "\r\n",
        "\r\n"
      ]
    },
    {
      "cell_type": "code",
      "metadata": {
        "id": "2L_95rL-etel"
      },
      "source": [
        "g7 = pd.Series([35.467, 63.951, 80.94, 60.665, 127.061, 64.511, 318.523])"
      ],
      "execution_count": null,
      "outputs": []
    },
    {
      "cell_type": "code",
      "metadata": {
        "colab": {
          "base_uri": "https://localhost:8080/"
        },
        "id": "v6HNNciCetsi",
        "outputId": "f17bd504-d5ea-415f-db4e-df60e4bcd393"
      },
      "source": [
        "g7"
      ],
      "execution_count": null,
      "outputs": [
        {
          "output_type": "execute_result",
          "data": {
            "text/plain": [
              "0     35.467\n",
              "1     63.951\n",
              "2     80.940\n",
              "3     60.665\n",
              "4    127.061\n",
              "5     64.511\n",
              "6    318.523\n",
              "dtype: float64"
            ]
          },
          "metadata": {
            "tags": []
          },
          "execution_count": 23
        }
      ]
    },
    {
      "cell_type": "code",
      "metadata": {
        "id": "6cCN_nP9et2S"
      },
      "source": [
        "g7.name = 'G7 Population in millions'"
      ],
      "execution_count": null,
      "outputs": []
    },
    {
      "cell_type": "code",
      "metadata": {
        "colab": {
          "base_uri": "https://localhost:8080/"
        },
        "id": "8lGiXyukfvQX",
        "outputId": "ff9b2c95-7496-4688-c7de-11734493b963"
      },
      "source": [
        "g7"
      ],
      "execution_count": null,
      "outputs": [
        {
          "output_type": "execute_result",
          "data": {
            "text/plain": [
              "0     35.467\n",
              "1     63.951\n",
              "2     80.940\n",
              "3     60.665\n",
              "4    127.061\n",
              "5     64.511\n",
              "6    318.523\n",
              "Name: G7 Population in millions, dtype: float64"
            ]
          },
          "metadata": {
            "tags": []
          },
          "execution_count": 25
        }
      ]
    },
    {
      "cell_type": "code",
      "metadata": {
        "colab": {
          "base_uri": "https://localhost:8080/"
        },
        "id": "P9jbi3CHiooM",
        "outputId": "d172a491-ce9b-452b-e1a0-ffeeb17ff83e"
      },
      "source": [
        " g7.values"
      ],
      "execution_count": null,
      "outputs": [
        {
          "output_type": "execute_result",
          "data": {
            "text/plain": [
              "array([ 35.467,  63.951,  80.94 ,  60.665, 127.061,  64.511, 318.523])"
            ]
          },
          "metadata": {
            "tags": []
          },
          "execution_count": 26
        }
      ]
    },
    {
      "cell_type": "code",
      "metadata": {
        "colab": {
          "base_uri": "https://localhost:8080/"
        },
        "id": "0pRhRe3xioyn",
        "outputId": "6b3bc2f4-b948-4733-9084-330c038ff585"
      },
      "source": [
        "g7[0]"
      ],
      "execution_count": null,
      "outputs": [
        {
          "output_type": "execute_result",
          "data": {
            "text/plain": [
              "35.467"
            ]
          },
          "metadata": {
            "tags": []
          },
          "execution_count": 27
        }
      ]
    },
    {
      "cell_type": "code",
      "metadata": {
        "colab": {
          "base_uri": "https://localhost:8080/"
        },
        "id": "P2MGDovOio8C",
        "outputId": "91da4ca8-6372-4a04-fa14-86b51c93d63f"
      },
      "source": [
        "g7.index"
      ],
      "execution_count": null,
      "outputs": [
        {
          "output_type": "execute_result",
          "data": {
            "text/plain": [
              "RangeIndex(start=0, stop=7, step=1)"
            ]
          },
          "metadata": {
            "tags": []
          },
          "execution_count": 28
        }
      ]
    },
    {
      "cell_type": "code",
      "metadata": {
        "id": "_MLhlTPGipFE"
      },
      "source": [
        "g7.index = [\r\n",
        "    'Canada',\r\n",
        "    'France',\r\n",
        "    'Germany',\r\n",
        "    'Italy',\r\n",
        "    'Japan',\r\n",
        "    'United Kingdom',\r\n",
        "    'United States',\r\n",
        "]"
      ],
      "execution_count": null,
      "outputs": []
    },
    {
      "cell_type": "code",
      "metadata": {
        "colab": {
          "base_uri": "https://localhost:8080/"
        },
        "id": "XL-CckaGjMim",
        "outputId": "90534293-39ef-4c04-8f2a-7f51a3cd6a21"
      },
      "source": [
        "g7"
      ],
      "execution_count": null,
      "outputs": [
        {
          "output_type": "execute_result",
          "data": {
            "text/plain": [
              "Canada             35.467\n",
              "France             63.951\n",
              "Germany            80.940\n",
              "Italy              60.665\n",
              "Japan             127.061\n",
              "United Kingdom     64.511\n",
              "United States     318.523\n",
              "Name: G7 Population in millions, dtype: float64"
            ]
          },
          "metadata": {
            "tags": []
          },
          "execution_count": 39
        }
      ]
    },
    {
      "cell_type": "code",
      "metadata": {
        "colab": {
          "base_uri": "https://localhost:8080/"
        },
        "id": "zyskFUbvlADd",
        "outputId": "4d053651-a901-48b4-f341-7153b07dacc7"
      },
      "source": [
        "pd.Series({\r\n",
        "    'Canada' : 35.467,\r\n",
        "    'France': 63.951,\r\n",
        "    'Germany': 80.940,\r\n",
        "    'Italy' : 60.665,\r\n",
        "    'Japan' : 127.061,\r\n",
        "    'United Kingdom': 64.511,\r\n",
        "    'United States': 318.523\r\n",
        "}, name = 'G7 Population in millions')"
      ],
      "execution_count": null,
      "outputs": [
        {
          "output_type": "execute_result",
          "data": {
            "text/plain": [
              "Canada             35.467\n",
              "France             63.951\n",
              "Germany            80.940\n",
              "Italy              60.665\n",
              "Japan             127.061\n",
              "United Kingdom     64.511\n",
              "United States     318.523\n",
              "Name: G7 Population in millions, dtype: float64"
            ]
          },
          "metadata": {
            "tags": []
          },
          "execution_count": 44
        }
      ]
    },
    {
      "cell_type": "code",
      "metadata": {
        "colab": {
          "base_uri": "https://localhost:8080/"
        },
        "id": "8LdixI7wlAis",
        "outputId": "dba26b91-027a-4d3c-8fb2-a04cb25d0062"
      },
      "source": [
        "pd.Series(\r\n",
        "    [35.467, 63.951, 80.94, 60.665, 127.061, 64.511, 318.523],\r\n",
        "    index= [\r\n",
        "    'Canada',\r\n",
        "    'France',\r\n",
        "    'Germany',\r\n",
        "    'Italy',\r\n",
        "    'Japan',\r\n",
        "    'United Kingdom',\r\n",
        "    'United States',\r\n",
        "],\r\n",
        "name = 'G7 Population in millions'\r\n",
        ")"
      ],
      "execution_count": null,
      "outputs": [
        {
          "output_type": "execute_result",
          "data": {
            "text/plain": [
              "Canada             35.467\n",
              "France             63.951\n",
              "Germany            80.940\n",
              "Italy              60.665\n",
              "Japan             127.061\n",
              "United Kingdom     64.511\n",
              "United States     318.523\n",
              "Name: G7 Population in millions, dtype: float64"
            ]
          },
          "metadata": {
            "tags": []
          },
          "execution_count": 46
        }
      ]
    },
    {
      "cell_type": "code",
      "metadata": {
        "colab": {
          "base_uri": "https://localhost:8080/"
        },
        "id": "72eE71p6mltV",
        "outputId": "82463c2e-5556-4c10-f2f0-5db1351d81f0"
      },
      "source": [
        "pd.Series(g7, index=['France', 'Germany', 'Italy', 'Spain'])"
      ],
      "execution_count": null,
      "outputs": [
        {
          "output_type": "execute_result",
          "data": {
            "text/plain": [
              "France     63.951\n",
              "Germany    80.940\n",
              "Italy      60.665\n",
              "Spain         NaN\n",
              "Name: G7 Population in millions, dtype: float64"
            ]
          },
          "metadata": {
            "tags": []
          },
          "execution_count": 49
        }
      ]
    },
    {
      "cell_type": "markdown",
      "metadata": {
        "id": "A3I-DiFlnRWd"
      },
      "source": [
        "##**Indexing**"
      ]
    },
    {
      "cell_type": "code",
      "metadata": {
        "colab": {
          "base_uri": "https://localhost:8080/"
        },
        "id": "Gag_59k6nWNQ",
        "outputId": "f05609f2-8df1-4280-93d8-e1cc2c2d97f0"
      },
      "source": [
        "g7['Canada']"
      ],
      "execution_count": null,
      "outputs": [
        {
          "output_type": "execute_result",
          "data": {
            "text/plain": [
              "35.467"
            ]
          },
          "metadata": {
            "tags": []
          },
          "execution_count": 50
        }
      ]
    },
    {
      "cell_type": "code",
      "metadata": {
        "colab": {
          "base_uri": "https://localhost:8080/"
        },
        "id": "Sz2m_dlBnWUX",
        "outputId": "08c9daf8-cc8e-4762-8dc8-f0709b3dda1b"
      },
      "source": [
        "g7.iloc[0]"
      ],
      "execution_count": null,
      "outputs": [
        {
          "output_type": "execute_result",
          "data": {
            "text/plain": [
              "35.467"
            ]
          },
          "metadata": {
            "tags": []
          },
          "execution_count": 51
        }
      ]
    },
    {
      "cell_type": "markdown",
      "metadata": {
        "id": "NqE7wrhcnh_d"
      },
      "source": [
        "**iloc** select a particular cell of the dataset"
      ]
    },
    {
      "cell_type": "code",
      "metadata": {
        "colab": {
          "base_uri": "https://localhost:8080/"
        },
        "id": "AFLfIa69nWbZ",
        "outputId": "cc031d23-b08c-4036-a5ed-8529d9f7b610"
      },
      "source": [
        "g7.iloc[-1]"
      ],
      "execution_count": null,
      "outputs": [
        {
          "output_type": "execute_result",
          "data": {
            "text/plain": [
              "318.523"
            ]
          },
          "metadata": {
            "tags": []
          },
          "execution_count": 54
        }
      ]
    },
    {
      "cell_type": "markdown",
      "metadata": {
        "id": "LpjqwyFeoQv8"
      },
      "source": [
        "**Selecting Multiple elements at once**"
      ]
    },
    {
      "cell_type": "code",
      "metadata": {
        "colab": {
          "base_uri": "https://localhost:8080/"
        },
        "id": "NNsEXYoDnWjY",
        "outputId": "d613219c-ea83-4d14-aa55-85a8f2342be8"
      },
      "source": [
        "g7[['Canada', 'Japan']]"
      ],
      "execution_count": null,
      "outputs": [
        {
          "output_type": "execute_result",
          "data": {
            "text/plain": [
              "Canada     35.467\n",
              "Japan     127.061\n",
              "Name: G7 Population in millions, dtype: float64"
            ]
          },
          "metadata": {
            "tags": []
          },
          "execution_count": 58
        }
      ]
    },
    {
      "cell_type": "markdown",
      "metadata": {
        "id": "VwQbA-KvoZFM"
      },
      "source": [
        "**Another way to select**"
      ]
    },
    {
      "cell_type": "code",
      "metadata": {
        "colab": {
          "base_uri": "https://localhost:8080/"
        },
        "id": "RW44iFosnWrx",
        "outputId": "689ff7dd-5dcb-4a6a-d4ec-5e155d768963"
      },
      "source": [
        "g7.iloc[[0, 1]]"
      ],
      "execution_count": null,
      "outputs": [
        {
          "output_type": "execute_result",
          "data": {
            "text/plain": [
              "Canada    35.467\n",
              "France    63.951\n",
              "Name: G7 Population in millions, dtype: float64"
            ]
          },
          "metadata": {
            "tags": []
          },
          "execution_count": 59
        }
      ]
    },
    {
      "cell_type": "markdown",
      "metadata": {
        "id": "x22wcTm_o0FH"
      },
      "source": [
        "Slicing also works, But **important** in Pandas, the upper limit is also included"
      ]
    },
    {
      "cell_type": "code",
      "metadata": {
        "colab": {
          "base_uri": "https://localhost:8080/"
        },
        "id": "Xw5kGW0CodKs",
        "outputId": "5e5fe952-b440-4857-d46d-c55074387fb7"
      },
      "source": [
        "g7['Canada' : 'Italy']"
      ],
      "execution_count": null,
      "outputs": [
        {
          "output_type": "execute_result",
          "data": {
            "text/plain": [
              "Canada     35.467\n",
              "France     63.951\n",
              "Germany    80.940\n",
              "Italy      60.665\n",
              "Name: G7 Population in millions, dtype: float64"
            ]
          },
          "metadata": {
            "tags": []
          },
          "execution_count": 61
        }
      ]
    },
    {
      "cell_type": "markdown",
      "metadata": {
        "id": "Ec81uEcMpoaM"
      },
      "source": [
        "##**Condition Selection**"
      ]
    },
    {
      "cell_type": "code",
      "metadata": {
        "colab": {
          "base_uri": "https://localhost:8080/"
        },
        "id": "XvGwJO7uoSok",
        "outputId": "f5e8aeb6-dccf-4736-bf31-447fe7d6e5d5"
      },
      "source": [
        "g7"
      ],
      "execution_count": null,
      "outputs": [
        {
          "output_type": "execute_result",
          "data": {
            "text/plain": [
              "Canada             35.467\n",
              "France             63.951\n",
              "Germany            80.940\n",
              "Italy              60.665\n",
              "Japan             127.061\n",
              "United Kingdom     64.511\n",
              "United States     318.523\n",
              "Name: G7 Population in millions, dtype: float64"
            ]
          },
          "metadata": {
            "tags": []
          },
          "execution_count": 62
        }
      ]
    },
    {
      "cell_type": "code",
      "metadata": {
        "colab": {
          "base_uri": "https://localhost:8080/"
        },
        "id": "QlhgYIAWoSwR",
        "outputId": "9f558149-755d-4d37-9df8-1dc1a9cdba59"
      },
      "source": [
        "g7 > 80"
      ],
      "execution_count": null,
      "outputs": [
        {
          "output_type": "execute_result",
          "data": {
            "text/plain": [
              "Canada            False\n",
              "France            False\n",
              "Germany            True\n",
              "Italy             False\n",
              "Japan              True\n",
              "United Kingdom    False\n",
              "United States      True\n",
              "Name: G7 Population in millions, dtype: bool"
            ]
          },
          "metadata": {
            "tags": []
          },
          "execution_count": 63
        }
      ]
    },
    {
      "cell_type": "markdown",
      "metadata": {
        "id": "x2fofUwWp37L"
      },
      "source": [
        "**In above code** it is checked along all the numbers and return the boolean series or bollean array according to the condition. **But in below code** ```\r\n",
        "[g7> 80]\r\n",
        "```first executed and it return the above result which act as index and the ```g7[g7 > 70]```.\r\n",
        "\r\n"
      ]
    },
    {
      "cell_type": "code",
      "metadata": {
        "colab": {
          "base_uri": "https://localhost:8080/"
        },
        "id": "EMVWRUxnoS5H",
        "outputId": "7dbe9e86-5943-4bb9-bcf6-de2cb56f964d"
      },
      "source": [
        "g7[g7 > 80]"
      ],
      "execution_count": null,
      "outputs": [
        {
          "output_type": "execute_result",
          "data": {
            "text/plain": [
              "Germany           80.940\n",
              "Japan            127.061\n",
              "United States    318.523\n",
              "Name: G7 Population in millions, dtype: float64"
            ]
          },
          "metadata": {
            "tags": []
          },
          "execution_count": 64
        }
      ]
    },
    {
      "cell_type": "code",
      "metadata": {
        "colab": {
          "base_uri": "https://localhost:8080/"
        },
        "id": "miWnvJJHqyEa",
        "outputId": "f06c1cab-7b32-4d75-e07f-3f4734cfa74a"
      },
      "source": [
        "g7.mean()"
      ],
      "execution_count": null,
      "outputs": [
        {
          "output_type": "execute_result",
          "data": {
            "text/plain": [
              "107.30257142857144"
            ]
          },
          "metadata": {
            "tags": []
          },
          "execution_count": 65
        }
      ]
    },
    {
      "cell_type": "code",
      "metadata": {
        "colab": {
          "base_uri": "https://localhost:8080/"
        },
        "id": "vTOnlhOHqyU-",
        "outputId": "4c1050eb-13ac-4703-9e64-c825cd52b15b"
      },
      "source": [
        "g7.std()"
      ],
      "execution_count": null,
      "outputs": [
        {
          "output_type": "execute_result",
          "data": {
            "text/plain": [
              "97.24996987121581"
            ]
          },
          "metadata": {
            "tags": []
          },
          "execution_count": 66
        }
      ]
    },
    {
      "cell_type": "code",
      "metadata": {
        "colab": {
          "base_uri": "https://localhost:8080/"
        },
        "id": "xXk3Tdhxq6T2",
        "outputId": "b7d388dc-0327-4b64-aee6-a5ec0bab109b"
      },
      "source": [
        "g7.var()"
      ],
      "execution_count": null,
      "outputs": [
        {
          "output_type": "execute_result",
          "data": {
            "text/plain": [
              "9457.556639952383"
            ]
          },
          "metadata": {
            "tags": []
          },
          "execution_count": 67
        }
      ]
    },
    {
      "cell_type": "code",
      "metadata": {
        "colab": {
          "base_uri": "https://localhost:8080/"
        },
        "id": "ucJlf2KOrxxB",
        "outputId": "a4465b43-b13a-4c0f-a8d7-f875e52702ab"
      },
      "source": [
        "g7[g7 > g7.mean()]"
      ],
      "execution_count": null,
      "outputs": [
        {
          "output_type": "execute_result",
          "data": {
            "text/plain": [
              "Japan            127.061\n",
              "United States    318.523\n",
              "Name: G7 Population in millions, dtype: float64"
            ]
          },
          "metadata": {
            "tags": []
          },
          "execution_count": 68
        }
      ]
    },
    {
      "cell_type": "code",
      "metadata": {
        "colab": {
          "base_uri": "https://localhost:8080/"
        },
        "id": "vMcSye8yr7ru",
        "outputId": "0be7e9d8-0cd6-4e4c-f556-46482e3ffbf4"
      },
      "source": [
        "g7[(g7 > g7.mean() - g7.std() / 2) | (g7 > g7.mean() + g7.std() / 2)]"
      ],
      "execution_count": null,
      "outputs": [
        {
          "output_type": "execute_result",
          "data": {
            "text/plain": [
              "France             63.951\n",
              "Germany            80.940\n",
              "Italy              60.665\n",
              "Japan             127.061\n",
              "United Kingdom     64.511\n",
              "United States     318.523\n",
              "Name: G7 Population in millions, dtype: float64"
            ]
          },
          "metadata": {
            "tags": []
          },
          "execution_count": 69
        }
      ]
    },
    {
      "cell_type": "markdown",
      "metadata": {
        "id": "nNMz7C5zpwYv"
      },
      "source": [
        "##**Operations and Methods**"
      ]
    },
    {
      "cell_type": "code",
      "metadata": {
        "id": "ervG4mBRpv5s",
        "colab": {
          "base_uri": "https://localhost:8080/"
        },
        "outputId": "51b1b207-4fc0-4738-a54f-fceeb8c2fd73"
      },
      "source": [
        "g7"
      ],
      "execution_count": null,
      "outputs": [
        {
          "output_type": "execute_result",
          "data": {
            "text/plain": [
              "Canada             35.467\n",
              "France             63.951\n",
              "Germany            80.940\n",
              "Italy              60.665\n",
              "Japan             127.061\n",
              "United Kingdom     64.511\n",
              "United States     318.523\n",
              "dtype: float64"
            ]
          },
          "metadata": {
            "tags": []
          },
          "execution_count": 5
        }
      ]
    },
    {
      "cell_type": "code",
      "metadata": {
        "id": "k_H2GfxIqBk8",
        "colab": {
          "base_uri": "https://localhost:8080/"
        },
        "outputId": "b3176767-956f-4f99-c942-533c6d347068"
      },
      "source": [
        "g7 * 1_000_000"
      ],
      "execution_count": null,
      "outputs": [
        {
          "output_type": "execute_result",
          "data": {
            "text/plain": [
              "Canada             35467000.0\n",
              "France             63951000.0\n",
              "Germany            80940000.0\n",
              "Italy              60665000.0\n",
              "Japan             127061000.0\n",
              "United Kingdom     64511000.0\n",
              "United States     318523000.0\n",
              "dtype: float64"
            ]
          },
          "metadata": {
            "tags": []
          },
          "execution_count": 6
        }
      ]
    },
    {
      "cell_type": "code",
      "metadata": {
        "id": "ubKw9KzgqBw-",
        "colab": {
          "base_uri": "https://localhost:8080/"
        },
        "outputId": "62457450-4e84-4757-dd6a-ee61918e2554"
      },
      "source": [
        "g7.mean()"
      ],
      "execution_count": null,
      "outputs": [
        {
          "output_type": "execute_result",
          "data": {
            "text/plain": [
              "107.30257142857144"
            ]
          },
          "metadata": {
            "tags": []
          },
          "execution_count": 7
        }
      ]
    },
    {
      "cell_type": "code",
      "metadata": {
        "id": "TlPYtryZqCZp",
        "colab": {
          "base_uri": "https://localhost:8080/"
        },
        "outputId": "4765b4e6-83de-46b1-b91b-da2d1b21d4ad"
      },
      "source": [
        "np.log(g7)"
      ],
      "execution_count": null,
      "outputs": [
        {
          "output_type": "execute_result",
          "data": {
            "text/plain": [
              "Canada            3.568603\n",
              "France            4.158117\n",
              "Germany           4.393708\n",
              "Italy             4.105367\n",
              "Japan             4.844667\n",
              "United Kingdom    4.166836\n",
              "United States     5.763695\n",
              "dtype: float64"
            ]
          },
          "metadata": {
            "tags": []
          },
          "execution_count": 8
        }
      ]
    },
    {
      "cell_type": "code",
      "metadata": {
        "id": "lW_nmUzxqUlE",
        "colab": {
          "base_uri": "https://localhost:8080/"
        },
        "outputId": "79dbcef8-00f9-4046-ce22-8f0fc3015227"
      },
      "source": [
        "g7['France': 'Italy'].mean()"
      ],
      "execution_count": null,
      "outputs": [
        {
          "output_type": "execute_result",
          "data": {
            "text/plain": [
              "68.51866666666666"
            ]
          },
          "metadata": {
            "tags": []
          },
          "execution_count": 9
        }
      ]
    },
    {
      "cell_type": "markdown",
      "metadata": {
        "id": "WyKJbDb8q363"
      },
      "source": [
        "##**Boolean Arrays**"
      ]
    },
    {
      "cell_type": "code",
      "metadata": {
        "id": "TuzNL05aq94d",
        "colab": {
          "base_uri": "https://localhost:8080/"
        },
        "outputId": "818b6bb6-8d7e-4a1f-94e1-bebb6804ca3b"
      },
      "source": [
        "g7"
      ],
      "execution_count": null,
      "outputs": [
        {
          "output_type": "execute_result",
          "data": {
            "text/plain": [
              "Canada             40.500\n",
              "France             63.951\n",
              "Germany            80.940\n",
              "Italy              60.665\n",
              "Japan             127.061\n",
              "United Kingdom     64.511\n",
              "United States     318.523\n",
              "dtype: float64"
            ]
          },
          "metadata": {
            "tags": []
          },
          "execution_count": 12
        }
      ]
    },
    {
      "cell_type": "code",
      "metadata": {
        "id": "_boak-Hyq90g",
        "colab": {
          "base_uri": "https://localhost:8080/"
        },
        "outputId": "42073b0f-f9fb-48da-c7b9-9481215d1db3"
      },
      "source": [
        "g7 > 80"
      ],
      "execution_count": null,
      "outputs": [
        {
          "output_type": "execute_result",
          "data": {
            "text/plain": [
              "Canada            False\n",
              "France            False\n",
              "Germany            True\n",
              "Italy             False\n",
              "Japan              True\n",
              "United Kingdom    False\n",
              "United States      True\n",
              "dtype: bool"
            ]
          },
          "metadata": {
            "tags": []
          },
          "execution_count": 13
        }
      ]
    },
    {
      "cell_type": "code",
      "metadata": {
        "id": "KS9oWrwTq9xB",
        "colab": {
          "base_uri": "https://localhost:8080/"
        },
        "outputId": "a7004bc5-2995-4325-90f8-a2e83a3b5ae1"
      },
      "source": [
        "g7[g7> 80]"
      ],
      "execution_count": null,
      "outputs": [
        {
          "output_type": "execute_result",
          "data": {
            "text/plain": [
              "Germany           80.940\n",
              "Japan            127.061\n",
              "United States    318.523\n",
              "dtype: float64"
            ]
          },
          "metadata": {
            "tags": []
          },
          "execution_count": 14
        }
      ]
    },
    {
      "cell_type": "code",
      "metadata": {
        "id": "H-f6Ojecq9tV",
        "colab": {
          "base_uri": "https://localhost:8080/"
        },
        "outputId": "0f80ebb2-242f-40b7-f5ed-b590ebd02cf6"
      },
      "source": [
        "g7[(g7 > 80) | (g7 < 40)]"
      ],
      "execution_count": null,
      "outputs": [
        {
          "output_type": "execute_result",
          "data": {
            "text/plain": [
              "Germany           80.940\n",
              "Japan            127.061\n",
              "United States    318.523\n",
              "dtype: float64"
            ]
          },
          "metadata": {
            "tags": []
          },
          "execution_count": 21
        }
      ]
    },
    {
      "cell_type": "code",
      "metadata": {
        "id": "5TtcgmAeq9n3",
        "colab": {
          "base_uri": "https://localhost:8080/"
        },
        "outputId": "906defec-e003-494c-97be-7d1af0f3f7bb"
      },
      "source": [
        "g7[(g7 > 80) & (g7 < 200)]"
      ],
      "execution_count": null,
      "outputs": [
        {
          "output_type": "execute_result",
          "data": {
            "text/plain": [
              "Germany     80.940\n",
              "Japan      127.061\n",
              "dtype: float64"
            ]
          },
          "metadata": {
            "tags": []
          },
          "execution_count": 23
        }
      ]
    },
    {
      "cell_type": "markdown",
      "metadata": {
        "id": "u5BNuu2PqepD"
      },
      "source": [
        "##**Modifying Series** \r\n",
        "\r\n"
      ]
    },
    {
      "cell_type": "code",
      "metadata": {
        "id": "oKy4H4h7qd4c"
      },
      "source": [
        "g7['Canada'] = 40.5"
      ],
      "execution_count": null,
      "outputs": []
    },
    {
      "cell_type": "code",
      "metadata": {
        "id": "spLxpqn4qUst",
        "colab": {
          "base_uri": "https://localhost:8080/"
        },
        "outputId": "0eb25ede-8183-4fb2-b2e9-54c12fe84c47"
      },
      "source": [
        "g7"
      ],
      "execution_count": null,
      "outputs": [
        {
          "output_type": "execute_result",
          "data": {
            "text/plain": [
              "Canada             40.500\n",
              "France             63.951\n",
              "Germany            80.940\n",
              "Italy              60.665\n",
              "Japan             127.061\n",
              "United Kingdom     64.511\n",
              "United States     318.523\n",
              "dtype: float64"
            ]
          },
          "metadata": {
            "tags": []
          },
          "execution_count": 11
        }
      ]
    },
    {
      "cell_type": "code",
      "metadata": {
        "id": "o8ylxBXSqU2H"
      },
      "source": [
        "g7.iloc[-1] = 500"
      ],
      "execution_count": null,
      "outputs": []
    },
    {
      "cell_type": "code",
      "metadata": {
        "id": "DKm8Le5CrqSq",
        "colab": {
          "base_uri": "https://localhost:8080/"
        },
        "outputId": "fe117802-75a8-4f18-821d-e003885bbd2e"
      },
      "source": [
        "g7"
      ],
      "execution_count": null,
      "outputs": [
        {
          "output_type": "execute_result",
          "data": {
            "text/plain": [
              "Canada             40.500\n",
              "France             63.951\n",
              "Germany            80.940\n",
              "Italy              60.665\n",
              "Japan             127.061\n",
              "United Kingdom     64.511\n",
              "United States     500.000\n",
              "dtype: float64"
            ]
          },
          "metadata": {
            "tags": []
          },
          "execution_count": 25
        }
      ]
    },
    {
      "cell_type": "code",
      "metadata": {
        "id": "mXZdeir3rt3d"
      },
      "source": [
        "g7[g7 < 70] = 99.99"
      ],
      "execution_count": null,
      "outputs": []
    },
    {
      "cell_type": "code",
      "metadata": {
        "id": "hJSjpJC8ryMj",
        "colab": {
          "base_uri": "https://localhost:8080/"
        },
        "outputId": "9e3cce7c-26bf-4790-ecb4-0115760dfff6"
      },
      "source": [
        "g7"
      ],
      "execution_count": null,
      "outputs": [
        {
          "output_type": "execute_result",
          "data": {
            "text/plain": [
              "Canada             99.990\n",
              "France             99.990\n",
              "Germany            80.940\n",
              "Italy              99.990\n",
              "Japan             127.061\n",
              "United Kingdom     99.990\n",
              "United States     500.000\n",
              "dtype: float64"
            ]
          },
          "metadata": {
            "tags": []
          },
          "execution_count": 27
        }
      ]
    }
  ]
}