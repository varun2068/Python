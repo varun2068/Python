{
  "nbformat": 4,
  "nbformat_minor": 0,
  "metadata": {
    "colab": {
      "name": "Pandas DataFrames.ipynb",
      "provenance": [],
      "authorship_tag": "ABX9TyNuw8w4RU2EwSglyWf6AM1u",
      "include_colab_link": true
    },
    "kernelspec": {
      "name": "python3",
      "display_name": "Python 3"
    }
  },
  "cells": [
    {
      "cell_type": "markdown",
      "metadata": {
        "id": "view-in-github",
        "colab_type": "text"
      },
      "source": [
        "<a href=\"https://colab.research.google.com/github/varun2068/Python/blob/main/Pandas_DataFrames.ipynb\" target=\"_parent\"><img src=\"https://colab.research.google.com/assets/colab-badge.svg\" alt=\"Open In Colab\"/></a>"
      ]
    },
    {
      "cell_type": "markdown",
      "metadata": {
        "id": "vDgEHyTXOt9C"
      },
      "source": [
        "#**Pandas** **-** ```DataFrames```\r\n",
        "\r\n",
        "\r\n",
        "\r\n",
        "\r\n"
      ]
    },
    {
      "cell_type": "markdown",
      "metadata": {
        "id": "Vbb_Xj9WPPEG"
      },
      "source": [
        "Probably the most important data structure of pandas is the ```Data Frames```. It's a tabular structure tightly integrated with ```Series```"
      ]
    },
    {
      "cell_type": "code",
      "metadata": {
        "id": "CVIWcZEAOtOE"
      },
      "source": [
        "import numpy as np\r\n",
        "import pandas as pd"
      ],
      "execution_count": 1,
      "outputs": []
    },
    {
      "cell_type": "markdown",
      "metadata": {
        "id": "ol4pfAuePzzO"
      },
      "source": [
        "We'll keep our analysis of G7 countries and looking now at Data Frames. As said, a DataFrame looks like a lot table "
      ]
    },
    {
      "cell_type": "code",
      "metadata": {
        "id": "2NvWllBUPvfl"
      },
      "source": [
        " df = pd.DataFrame({\r\n",
        "    'Population': [35.467, 63.953, 80.94, 60.665, 127.063, 64.511, 318.523],\r\n",
        "    'GDP': [1785387, 2833687, 3874437, 2167744, 4602367, 2980039, 17348075],\r\n",
        "    'Surface Area': [9964670, 640879, 357114, 301336, 377930, 242495, 9525067],\r\n",
        "    'HDI':[0.913, 0.888, 0.916, 0.873, 0.891, 0.907, 0.915],\r\n",
        "    'Continent': ['America', 'Europe', 'Europe', 'Europe', 'Asia', 'Europe', 'America']\r\n",
        "}, columns=['Population', 'GDP', 'Surface Area', 'HDI', 'Continent'])"
      ],
      "execution_count": 9,
      "outputs": []
    },
    {
      "cell_type": "code",
      "metadata": {
        "colab": {
          "base_uri": "https://localhost:8080/",
          "height": 254
        },
        "id": "YuKABwzCSft6",
        "outputId": "428a661f-d622-40c9-be9b-c710e9e39541"
      },
      "source": [
        "df"
      ],
      "execution_count": 10,
      "outputs": [
        {
          "output_type": "execute_result",
          "data": {
            "text/html": [
              "<div>\n",
              "<style scoped>\n",
              "    .dataframe tbody tr th:only-of-type {\n",
              "        vertical-align: middle;\n",
              "    }\n",
              "\n",
              "    .dataframe tbody tr th {\n",
              "        vertical-align: top;\n",
              "    }\n",
              "\n",
              "    .dataframe thead th {\n",
              "        text-align: right;\n",
              "    }\n",
              "</style>\n",
              "<table border=\"1\" class=\"dataframe\">\n",
              "  <thead>\n",
              "    <tr style=\"text-align: right;\">\n",
              "      <th></th>\n",
              "      <th>Population</th>\n",
              "      <th>GDP</th>\n",
              "      <th>Surface Area</th>\n",
              "      <th>HDI</th>\n",
              "      <th>Continent</th>\n",
              "    </tr>\n",
              "  </thead>\n",
              "  <tbody>\n",
              "    <tr>\n",
              "      <th>0</th>\n",
              "      <td>35.467</td>\n",
              "      <td>1785387</td>\n",
              "      <td>9964670</td>\n",
              "      <td>0.913</td>\n",
              "      <td>America</td>\n",
              "    </tr>\n",
              "    <tr>\n",
              "      <th>1</th>\n",
              "      <td>63.953</td>\n",
              "      <td>2833687</td>\n",
              "      <td>640879</td>\n",
              "      <td>0.888</td>\n",
              "      <td>Europe</td>\n",
              "    </tr>\n",
              "    <tr>\n",
              "      <th>2</th>\n",
              "      <td>80.940</td>\n",
              "      <td>3874437</td>\n",
              "      <td>357114</td>\n",
              "      <td>0.916</td>\n",
              "      <td>Europe</td>\n",
              "    </tr>\n",
              "    <tr>\n",
              "      <th>3</th>\n",
              "      <td>60.665</td>\n",
              "      <td>2167744</td>\n",
              "      <td>301336</td>\n",
              "      <td>0.873</td>\n",
              "      <td>Europe</td>\n",
              "    </tr>\n",
              "    <tr>\n",
              "      <th>4</th>\n",
              "      <td>127.063</td>\n",
              "      <td>4602367</td>\n",
              "      <td>377930</td>\n",
              "      <td>0.891</td>\n",
              "      <td>Asia</td>\n",
              "    </tr>\n",
              "    <tr>\n",
              "      <th>5</th>\n",
              "      <td>64.511</td>\n",
              "      <td>2980039</td>\n",
              "      <td>242495</td>\n",
              "      <td>0.907</td>\n",
              "      <td>Europe</td>\n",
              "    </tr>\n",
              "    <tr>\n",
              "      <th>6</th>\n",
              "      <td>318.523</td>\n",
              "      <td>17348075</td>\n",
              "      <td>9525067</td>\n",
              "      <td>0.915</td>\n",
              "      <td>America</td>\n",
              "    </tr>\n",
              "  </tbody>\n",
              "</table>\n",
              "</div>"
            ],
            "text/plain": [
              "   Population       GDP  Surface Area    HDI Continent\n",
              "0      35.467   1785387       9964670  0.913   America\n",
              "1      63.953   2833687        640879  0.888    Europe\n",
              "2      80.940   3874437        357114  0.916    Europe\n",
              "3      60.665   2167744        301336  0.873    Europe\n",
              "4     127.063   4602367        377930  0.891      Asia\n",
              "5      64.511   2980039        242495  0.907    Europe\n",
              "6     318.523  17348075       9525067  0.915   America"
            ]
          },
          "metadata": {
            "tags": []
          },
          "execution_count": 10
        }
      ]
    },
    {
      "cell_type": "code",
      "metadata": {
        "id": "h1WnupUBSf0G"
      },
      "source": [
        "df.index = ['Canada', 'France', 'Germany', 'Italy', 'Japan', 'United Kingdom', 'United States']"
      ],
      "execution_count": 47,
      "outputs": []
    },
    {
      "cell_type": "code",
      "metadata": {
        "colab": {
          "base_uri": "https://localhost:8080/",
          "height": 254
        },
        "id": "ZTD5Df_RSf6A",
        "outputId": "91eba910-93e6-4b79-94ef-a519ab2cd4f2"
      },
      "source": [
        "df"
      ],
      "execution_count": 71,
      "outputs": [
        {
          "output_type": "execute_result",
          "data": {
            "text/html": [
              "<div>\n",
              "<style scoped>\n",
              "    .dataframe tbody tr th:only-of-type {\n",
              "        vertical-align: middle;\n",
              "    }\n",
              "\n",
              "    .dataframe tbody tr th {\n",
              "        vertical-align: top;\n",
              "    }\n",
              "\n",
              "    .dataframe thead th {\n",
              "        text-align: right;\n",
              "    }\n",
              "</style>\n",
              "<table border=\"1\" class=\"dataframe\">\n",
              "  <thead>\n",
              "    <tr style=\"text-align: right;\">\n",
              "      <th></th>\n",
              "      <th>Population</th>\n",
              "      <th>GDP</th>\n",
              "      <th>Surface Area</th>\n",
              "      <th>HDI</th>\n",
              "      <th>Continent</th>\n",
              "    </tr>\n",
              "  </thead>\n",
              "  <tbody>\n",
              "    <tr>\n",
              "      <th>Canada</th>\n",
              "      <td>35.467</td>\n",
              "      <td>1785387</td>\n",
              "      <td>9964670</td>\n",
              "      <td>0.913</td>\n",
              "      <td>America</td>\n",
              "    </tr>\n",
              "    <tr>\n",
              "      <th>France</th>\n",
              "      <td>63.953</td>\n",
              "      <td>2833687</td>\n",
              "      <td>640879</td>\n",
              "      <td>0.888</td>\n",
              "      <td>Europe</td>\n",
              "    </tr>\n",
              "    <tr>\n",
              "      <th>Germany</th>\n",
              "      <td>80.940</td>\n",
              "      <td>3874437</td>\n",
              "      <td>357114</td>\n",
              "      <td>0.916</td>\n",
              "      <td>Europe</td>\n",
              "    </tr>\n",
              "    <tr>\n",
              "      <th>Italy</th>\n",
              "      <td>60.665</td>\n",
              "      <td>2167744</td>\n",
              "      <td>301336</td>\n",
              "      <td>0.873</td>\n",
              "      <td>Europe</td>\n",
              "    </tr>\n",
              "    <tr>\n",
              "      <th>Japan</th>\n",
              "      <td>127.063</td>\n",
              "      <td>4602367</td>\n",
              "      <td>377930</td>\n",
              "      <td>0.891</td>\n",
              "      <td>Asia</td>\n",
              "    </tr>\n",
              "    <tr>\n",
              "      <th>United Kingdom</th>\n",
              "      <td>64.511</td>\n",
              "      <td>2980039</td>\n",
              "      <td>242495</td>\n",
              "      <td>0.907</td>\n",
              "      <td>Europe</td>\n",
              "    </tr>\n",
              "    <tr>\n",
              "      <th>United States</th>\n",
              "      <td>318.523</td>\n",
              "      <td>17348075</td>\n",
              "      <td>9525067</td>\n",
              "      <td>0.915</td>\n",
              "      <td>America</td>\n",
              "    </tr>\n",
              "  </tbody>\n",
              "</table>\n",
              "</div>"
            ],
            "text/plain": [
              "                Population       GDP  Surface Area    HDI Continent\n",
              "Canada              35.467   1785387       9964670  0.913   America\n",
              "France              63.953   2833687        640879  0.888    Europe\n",
              "Germany             80.940   3874437        357114  0.916    Europe\n",
              "Italy               60.665   2167744        301336  0.873    Europe\n",
              "Japan              127.063   4602367        377930  0.891      Asia\n",
              "United Kingdom      64.511   2980039        242495  0.907    Europe\n",
              "United States      318.523  17348075       9525067  0.915   America"
            ]
          },
          "metadata": {
            "tags": []
          },
          "execution_count": 71
        }
      ]
    },
    {
      "cell_type": "code",
      "metadata": {
        "colab": {
          "base_uri": "https://localhost:8080/"
        },
        "id": "zurn1uMZSgA7",
        "outputId": "ec99a088-6bad-4e39-8838-743b80eb0887"
      },
      "source": [
        "df.columns"
      ],
      "execution_count": 11,
      "outputs": [
        {
          "output_type": "execute_result",
          "data": {
            "text/plain": [
              "Index(['Population', 'GDP', 'Surface Area', 'HDI', 'Continent'], dtype='object')"
            ]
          },
          "metadata": {
            "tags": []
          },
          "execution_count": 11
        }
      ]
    },
    {
      "cell_type": "code",
      "metadata": {
        "colab": {
          "base_uri": "https://localhost:8080/"
        },
        "id": "vElbO0PATGNe",
        "outputId": "ec4a390a-ed86-4b13-afec-75fed3f9be8c"
      },
      "source": [
        "df.index"
      ],
      "execution_count": 13,
      "outputs": [
        {
          "output_type": "execute_result",
          "data": {
            "text/plain": [
              "RangeIndex(start=0, stop=7, step=1)"
            ]
          },
          "metadata": {
            "tags": []
          },
          "execution_count": 13
        }
      ]
    },
    {
      "cell_type": "code",
      "metadata": {
        "colab": {
          "base_uri": "https://localhost:8080/"
        },
        "id": "ZWMoSn9XTLJ1",
        "outputId": "28d0fa69-a483-462a-ffa2-fa1c13666c14"
      },
      "source": [
        "df.info"
      ],
      "execution_count": 14,
      "outputs": [
        {
          "output_type": "execute_result",
          "data": {
            "text/plain": [
              "<bound method DataFrame.info of    Population       GDP  Surface Area    HDI Continent\n",
              "0      35.467   1785387       9964670  0.913   America\n",
              "1      63.953   2833687        640879  0.888    Europe\n",
              "2      80.940   3874437        357114  0.916    Europe\n",
              "3      60.665   2167744        301336  0.873    Europe\n",
              "4     127.063   4602367        377930  0.891      Asia\n",
              "5      64.511   2980039        242495  0.907    Europe\n",
              "6     318.523  17348075       9525067  0.915   America>"
            ]
          },
          "metadata": {
            "tags": []
          },
          "execution_count": 14
        }
      ]
    },
    {
      "cell_type": "code",
      "metadata": {
        "colab": {
          "base_uri": "https://localhost:8080/"
        },
        "id": "w8JsN3bHTLTi",
        "outputId": "cc440a31-194d-4f00-e675-ab11ad80823a"
      },
      "source": [
        "df.info()"
      ],
      "execution_count": 19,
      "outputs": [
        {
          "output_type": "stream",
          "text": [
            "<class 'pandas.core.frame.DataFrame'>\n",
            "RangeIndex: 7 entries, 0 to 6\n",
            "Data columns (total 5 columns):\n",
            " #   Column        Non-Null Count  Dtype  \n",
            "---  ------        --------------  -----  \n",
            " 0   Population    7 non-null      float64\n",
            " 1   GDP           7 non-null      int64  \n",
            " 2   Surface Area  7 non-null      int64  \n",
            " 3   HDI           7 non-null      float64\n",
            " 4   Continent     7 non-null      object \n",
            "dtypes: float64(2), int64(2), object(1)\n",
            "memory usage: 408.0+ bytes\n"
          ],
          "name": "stdout"
        }
      ]
    },
    {
      "cell_type": "code",
      "metadata": {
        "colab": {
          "base_uri": "https://localhost:8080/"
        },
        "id": "VeEvNfvKTGU_",
        "outputId": "7a96cc1a-34f9-4d69-d366-179df4c71454"
      },
      "source": [
        "df.size"
      ],
      "execution_count": 20,
      "outputs": [
        {
          "output_type": "execute_result",
          "data": {
            "text/plain": [
              "35"
            ]
          },
          "metadata": {
            "tags": []
          },
          "execution_count": 20
        }
      ]
    },
    {
      "cell_type": "code",
      "metadata": {
        "colab": {
          "base_uri": "https://localhost:8080/"
        },
        "id": "vbJBf2oeTGci",
        "outputId": "4243c290-d4fd-47d4-a87d-7c4af1c917a6"
      },
      "source": [
        "df.shape"
      ],
      "execution_count": 21,
      "outputs": [
        {
          "output_type": "execute_result",
          "data": {
            "text/plain": [
              "(7, 5)"
            ]
          },
          "metadata": {
            "tags": []
          },
          "execution_count": 21
        }
      ]
    },
    {
      "cell_type": "code",
      "metadata": {
        "colab": {
          "base_uri": "https://localhost:8080/"
        },
        "id": "7PiJ-JSAThVH",
        "outputId": "29581506-aafd-4e5d-b24d-7c54793f130b"
      },
      "source": [
        "df.dtypes"
      ],
      "execution_count": 25,
      "outputs": [
        {
          "output_type": "execute_result",
          "data": {
            "text/plain": [
              "Population      float64\n",
              "GDP               int64\n",
              "Surface Area      int64\n",
              "HDI             float64\n",
              "Continent        object\n",
              "dtype: object"
            ]
          },
          "metadata": {
            "tags": []
          },
          "execution_count": 25
        }
      ]
    },
    {
      "cell_type": "code",
      "metadata": {
        "colab": {
          "base_uri": "https://localhost:8080/",
          "height": 284
        },
        "id": "-eCMbmxuThzw",
        "outputId": "2c08a53d-68df-4e56-df07-fe1c066b4c04"
      },
      "source": [
        "df.describe()"
      ],
      "execution_count": 26,
      "outputs": [
        {
          "output_type": "execute_result",
          "data": {
            "text/html": [
              "<div>\n",
              "<style scoped>\n",
              "    .dataframe tbody tr th:only-of-type {\n",
              "        vertical-align: middle;\n",
              "    }\n",
              "\n",
              "    .dataframe tbody tr th {\n",
              "        vertical-align: top;\n",
              "    }\n",
              "\n",
              "    .dataframe thead th {\n",
              "        text-align: right;\n",
              "    }\n",
              "</style>\n",
              "<table border=\"1\" class=\"dataframe\">\n",
              "  <thead>\n",
              "    <tr style=\"text-align: right;\">\n",
              "      <th></th>\n",
              "      <th>Population</th>\n",
              "      <th>GDP</th>\n",
              "      <th>Surface Area</th>\n",
              "      <th>HDI</th>\n",
              "    </tr>\n",
              "  </thead>\n",
              "  <tbody>\n",
              "    <tr>\n",
              "      <th>count</th>\n",
              "      <td>7.000000</td>\n",
              "      <td>7.000000e+00</td>\n",
              "      <td>7.000000e+00</td>\n",
              "      <td>7.000000</td>\n",
              "    </tr>\n",
              "    <tr>\n",
              "      <th>mean</th>\n",
              "      <td>107.303143</td>\n",
              "      <td>5.084534e+06</td>\n",
              "      <td>3.058499e+06</td>\n",
              "      <td>0.900429</td>\n",
              "    </tr>\n",
              "    <tr>\n",
              "      <th>std</th>\n",
              "      <td>97.249889</td>\n",
              "      <td>5.492093e+06</td>\n",
              "      <td>4.571129e+06</td>\n",
              "      <td>0.016592</td>\n",
              "    </tr>\n",
              "    <tr>\n",
              "      <th>min</th>\n",
              "      <td>35.467000</td>\n",
              "      <td>1.785387e+06</td>\n",
              "      <td>2.424950e+05</td>\n",
              "      <td>0.873000</td>\n",
              "    </tr>\n",
              "    <tr>\n",
              "      <th>25%</th>\n",
              "      <td>62.309000</td>\n",
              "      <td>2.500716e+06</td>\n",
              "      <td>3.292250e+05</td>\n",
              "      <td>0.889500</td>\n",
              "    </tr>\n",
              "    <tr>\n",
              "      <th>50%</th>\n",
              "      <td>64.511000</td>\n",
              "      <td>2.980039e+06</td>\n",
              "      <td>3.779300e+05</td>\n",
              "      <td>0.907000</td>\n",
              "    </tr>\n",
              "    <tr>\n",
              "      <th>75%</th>\n",
              "      <td>104.001500</td>\n",
              "      <td>4.238402e+06</td>\n",
              "      <td>5.082973e+06</td>\n",
              "      <td>0.914000</td>\n",
              "    </tr>\n",
              "    <tr>\n",
              "      <th>max</th>\n",
              "      <td>318.523000</td>\n",
              "      <td>1.734808e+07</td>\n",
              "      <td>9.964670e+06</td>\n",
              "      <td>0.916000</td>\n",
              "    </tr>\n",
              "  </tbody>\n",
              "</table>\n",
              "</div>"
            ],
            "text/plain": [
              "       Population           GDP  Surface Area       HDI\n",
              "count    7.000000  7.000000e+00  7.000000e+00  7.000000\n",
              "mean   107.303143  5.084534e+06  3.058499e+06  0.900429\n",
              "std     97.249889  5.492093e+06  4.571129e+06  0.016592\n",
              "min     35.467000  1.785387e+06  2.424950e+05  0.873000\n",
              "25%     62.309000  2.500716e+06  3.292250e+05  0.889500\n",
              "50%     64.511000  2.980039e+06  3.779300e+05  0.907000\n",
              "75%    104.001500  4.238402e+06  5.082973e+06  0.914000\n",
              "max    318.523000  1.734808e+07  9.964670e+06  0.916000"
            ]
          },
          "metadata": {
            "tags": []
          },
          "execution_count": 26
        }
      ]
    },
    {
      "cell_type": "code",
      "metadata": {
        "colab": {
          "base_uri": "https://localhost:8080/"
        },
        "id": "1qDB-fb0TtOV",
        "outputId": "5be4ec75-113a-442d-d2ee-ca920cb9806e"
      },
      "source": [
        "df.dtypes.value_counts()"
      ],
      "execution_count": 29,
      "outputs": [
        {
          "output_type": "execute_result",
          "data": {
            "text/plain": [
              "float64    2\n",
              "int64      2\n",
              "object     1\n",
              "dtype: int64"
            ]
          },
          "metadata": {
            "tags": []
          },
          "execution_count": 29
        }
      ]
    },
    {
      "cell_type": "markdown",
      "metadata": {
        "id": "5B0olmAnT_vN"
      },
      "source": [
        "##**Indexing, Selection and Slicing** "
      ]
    },
    {
      "cell_type": "code",
      "metadata": {
        "colab": {
          "base_uri": "https://localhost:8080/"
        },
        "id": "07GJHiWLTtU9",
        "outputId": "de2368db-a0f6-4f42-a7a5-2025f85867cd"
      },
      "source": [
        " df['Population']"
      ],
      "execution_count": 30,
      "outputs": [
        {
          "output_type": "execute_result",
          "data": {
            "text/plain": [
              "0     35.467\n",
              "1     63.953\n",
              "2     80.940\n",
              "3     60.665\n",
              "4    127.063\n",
              "5     64.511\n",
              "6    318.523\n",
              "Name: Population, dtype: float64"
            ]
          },
          "metadata": {
            "tags": []
          },
          "execution_count": 30
        }
      ]
    },
    {
      "cell_type": "code",
      "metadata": {
        "colab": {
          "base_uri": "https://localhost:8080/",
          "height": 254
        },
        "id": "Slj14Hb7US4p",
        "outputId": "fecd9b5b-68e4-4332-e150-69aa402c9b19"
      },
      "source": [
        "df['Population'].to_frame()"
      ],
      "execution_count": 32,
      "outputs": [
        {
          "output_type": "execute_result",
          "data": {
            "text/html": [
              "<div>\n",
              "<style scoped>\n",
              "    .dataframe tbody tr th:only-of-type {\n",
              "        vertical-align: middle;\n",
              "    }\n",
              "\n",
              "    .dataframe tbody tr th {\n",
              "        vertical-align: top;\n",
              "    }\n",
              "\n",
              "    .dataframe thead th {\n",
              "        text-align: right;\n",
              "    }\n",
              "</style>\n",
              "<table border=\"1\" class=\"dataframe\">\n",
              "  <thead>\n",
              "    <tr style=\"text-align: right;\">\n",
              "      <th></th>\n",
              "      <th>Population</th>\n",
              "    </tr>\n",
              "  </thead>\n",
              "  <tbody>\n",
              "    <tr>\n",
              "      <th>0</th>\n",
              "      <td>35.467</td>\n",
              "    </tr>\n",
              "    <tr>\n",
              "      <th>1</th>\n",
              "      <td>63.953</td>\n",
              "    </tr>\n",
              "    <tr>\n",
              "      <th>2</th>\n",
              "      <td>80.940</td>\n",
              "    </tr>\n",
              "    <tr>\n",
              "      <th>3</th>\n",
              "      <td>60.665</td>\n",
              "    </tr>\n",
              "    <tr>\n",
              "      <th>4</th>\n",
              "      <td>127.063</td>\n",
              "    </tr>\n",
              "    <tr>\n",
              "      <th>5</th>\n",
              "      <td>64.511</td>\n",
              "    </tr>\n",
              "    <tr>\n",
              "      <th>6</th>\n",
              "      <td>318.523</td>\n",
              "    </tr>\n",
              "  </tbody>\n",
              "</table>\n",
              "</div>"
            ],
            "text/plain": [
              "   Population\n",
              "0      35.467\n",
              "1      63.953\n",
              "2      80.940\n",
              "3      60.665\n",
              "4     127.063\n",
              "5      64.511\n",
              "6     318.523"
            ]
          },
          "metadata": {
            "tags": []
          },
          "execution_count": 32
        }
      ]
    },
    {
      "cell_type": "code",
      "metadata": {
        "colab": {
          "base_uri": "https://localhost:8080/",
          "height": 254
        },
        "id": "3Swn2x1QTtcP",
        "outputId": "4a3a07aa-fd83-4df8-d8bc-fc08e3ef7ec4"
      },
      "source": [
        "df[['Population', 'GDP']]"
      ],
      "execution_count": 33,
      "outputs": [
        {
          "output_type": "execute_result",
          "data": {
            "text/html": [
              "<div>\n",
              "<style scoped>\n",
              "    .dataframe tbody tr th:only-of-type {\n",
              "        vertical-align: middle;\n",
              "    }\n",
              "\n",
              "    .dataframe tbody tr th {\n",
              "        vertical-align: top;\n",
              "    }\n",
              "\n",
              "    .dataframe thead th {\n",
              "        text-align: right;\n",
              "    }\n",
              "</style>\n",
              "<table border=\"1\" class=\"dataframe\">\n",
              "  <thead>\n",
              "    <tr style=\"text-align: right;\">\n",
              "      <th></th>\n",
              "      <th>Population</th>\n",
              "      <th>GDP</th>\n",
              "    </tr>\n",
              "  </thead>\n",
              "  <tbody>\n",
              "    <tr>\n",
              "      <th>0</th>\n",
              "      <td>35.467</td>\n",
              "      <td>1785387</td>\n",
              "    </tr>\n",
              "    <tr>\n",
              "      <th>1</th>\n",
              "      <td>63.953</td>\n",
              "      <td>2833687</td>\n",
              "    </tr>\n",
              "    <tr>\n",
              "      <th>2</th>\n",
              "      <td>80.940</td>\n",
              "      <td>3874437</td>\n",
              "    </tr>\n",
              "    <tr>\n",
              "      <th>3</th>\n",
              "      <td>60.665</td>\n",
              "      <td>2167744</td>\n",
              "    </tr>\n",
              "    <tr>\n",
              "      <th>4</th>\n",
              "      <td>127.063</td>\n",
              "      <td>4602367</td>\n",
              "    </tr>\n",
              "    <tr>\n",
              "      <th>5</th>\n",
              "      <td>64.511</td>\n",
              "      <td>2980039</td>\n",
              "    </tr>\n",
              "    <tr>\n",
              "      <th>6</th>\n",
              "      <td>318.523</td>\n",
              "      <td>17348075</td>\n",
              "    </tr>\n",
              "  </tbody>\n",
              "</table>\n",
              "</div>"
            ],
            "text/plain": [
              "   Population       GDP\n",
              "0      35.467   1785387\n",
              "1      63.953   2833687\n",
              "2      80.940   3874437\n",
              "3      60.665   2167744\n",
              "4     127.063   4602367\n",
              "5      64.511   2980039\n",
              "6     318.523  17348075"
            ]
          },
          "metadata": {
            "tags": []
          },
          "execution_count": 33
        }
      ]
    },
    {
      "cell_type": "markdown",
      "metadata": {
        "id": "-zB0KSVNU5BF"
      },
      "source": [
        "We can also write instead of ```df['Population].to_frame() ``` to the below code"
      ]
    },
    {
      "cell_type": "code",
      "metadata": {
        "colab": {
          "base_uri": "https://localhost:8080/",
          "height": 254
        },
        "id": "jL5F0fYeU0SH",
        "outputId": "b8b1e982-fc85-4fee-ed31-7e4e71b90bcc"
      },
      "source": [
        "df[['Population']]"
      ],
      "execution_count": 34,
      "outputs": [
        {
          "output_type": "execute_result",
          "data": {
            "text/html": [
              "<div>\n",
              "<style scoped>\n",
              "    .dataframe tbody tr th:only-of-type {\n",
              "        vertical-align: middle;\n",
              "    }\n",
              "\n",
              "    .dataframe tbody tr th {\n",
              "        vertical-align: top;\n",
              "    }\n",
              "\n",
              "    .dataframe thead th {\n",
              "        text-align: right;\n",
              "    }\n",
              "</style>\n",
              "<table border=\"1\" class=\"dataframe\">\n",
              "  <thead>\n",
              "    <tr style=\"text-align: right;\">\n",
              "      <th></th>\n",
              "      <th>Population</th>\n",
              "    </tr>\n",
              "  </thead>\n",
              "  <tbody>\n",
              "    <tr>\n",
              "      <th>0</th>\n",
              "      <td>35.467</td>\n",
              "    </tr>\n",
              "    <tr>\n",
              "      <th>1</th>\n",
              "      <td>63.953</td>\n",
              "    </tr>\n",
              "    <tr>\n",
              "      <th>2</th>\n",
              "      <td>80.940</td>\n",
              "    </tr>\n",
              "    <tr>\n",
              "      <th>3</th>\n",
              "      <td>60.665</td>\n",
              "    </tr>\n",
              "    <tr>\n",
              "      <th>4</th>\n",
              "      <td>127.063</td>\n",
              "    </tr>\n",
              "    <tr>\n",
              "      <th>5</th>\n",
              "      <td>64.511</td>\n",
              "    </tr>\n",
              "    <tr>\n",
              "      <th>6</th>\n",
              "      <td>318.523</td>\n",
              "    </tr>\n",
              "  </tbody>\n",
              "</table>\n",
              "</div>"
            ],
            "text/plain": [
              "   Population\n",
              "0      35.467\n",
              "1      63.953\n",
              "2      80.940\n",
              "3      60.665\n",
              "4     127.063\n",
              "5      64.511\n",
              "6     318.523"
            ]
          },
          "metadata": {
            "tags": []
          },
          "execution_count": 34
        }
      ]
    },
    {
      "cell_type": "code",
      "metadata": {
        "colab": {
          "base_uri": "https://localhost:8080/",
          "height": 106
        },
        "id": "1eyolyRJU0ax",
        "outputId": "be4b13f1-f9f8-46a7-f86f-e0ee3a7bf99d"
      },
      "source": [
        "df[1:3]"
      ],
      "execution_count": 35,
      "outputs": [
        {
          "output_type": "execute_result",
          "data": {
            "text/html": [
              "<div>\n",
              "<style scoped>\n",
              "    .dataframe tbody tr th:only-of-type {\n",
              "        vertical-align: middle;\n",
              "    }\n",
              "\n",
              "    .dataframe tbody tr th {\n",
              "        vertical-align: top;\n",
              "    }\n",
              "\n",
              "    .dataframe thead th {\n",
              "        text-align: right;\n",
              "    }\n",
              "</style>\n",
              "<table border=\"1\" class=\"dataframe\">\n",
              "  <thead>\n",
              "    <tr style=\"text-align: right;\">\n",
              "      <th></th>\n",
              "      <th>Population</th>\n",
              "      <th>GDP</th>\n",
              "      <th>Surface Area</th>\n",
              "      <th>HDI</th>\n",
              "      <th>Continent</th>\n",
              "    </tr>\n",
              "  </thead>\n",
              "  <tbody>\n",
              "    <tr>\n",
              "      <th>1</th>\n",
              "      <td>63.953</td>\n",
              "      <td>2833687</td>\n",
              "      <td>640879</td>\n",
              "      <td>0.888</td>\n",
              "      <td>Europe</td>\n",
              "    </tr>\n",
              "    <tr>\n",
              "      <th>2</th>\n",
              "      <td>80.940</td>\n",
              "      <td>3874437</td>\n",
              "      <td>357114</td>\n",
              "      <td>0.916</td>\n",
              "      <td>Europe</td>\n",
              "    </tr>\n",
              "  </tbody>\n",
              "</table>\n",
              "</div>"
            ],
            "text/plain": [
              "   Population      GDP  Surface Area    HDI Continent\n",
              "1      63.953  2833687        640879  0.888    Europe\n",
              "2      80.940  3874437        357114  0.916    Europe"
            ]
          },
          "metadata": {
            "tags": []
          },
          "execution_count": 35
        }
      ]
    },
    {
      "cell_type": "code",
      "metadata": {
        "colab": {
          "base_uri": "https://localhost:8080/",
          "height": 136
        },
        "id": "XZNDME5kVXle",
        "outputId": "b0cd3ef7-0775-4d60-f404-40ec3906cf47"
      },
      "source": [
        "df[4:]"
      ],
      "execution_count": 42,
      "outputs": [
        {
          "output_type": "execute_result",
          "data": {
            "text/html": [
              "<div>\n",
              "<style scoped>\n",
              "    .dataframe tbody tr th:only-of-type {\n",
              "        vertical-align: middle;\n",
              "    }\n",
              "\n",
              "    .dataframe tbody tr th {\n",
              "        vertical-align: top;\n",
              "    }\n",
              "\n",
              "    .dataframe thead th {\n",
              "        text-align: right;\n",
              "    }\n",
              "</style>\n",
              "<table border=\"1\" class=\"dataframe\">\n",
              "  <thead>\n",
              "    <tr style=\"text-align: right;\">\n",
              "      <th></th>\n",
              "      <th>Population</th>\n",
              "      <th>GDP</th>\n",
              "      <th>Surface Area</th>\n",
              "      <th>HDI</th>\n",
              "      <th>Continent</th>\n",
              "    </tr>\n",
              "  </thead>\n",
              "  <tbody>\n",
              "    <tr>\n",
              "      <th>4</th>\n",
              "      <td>127.063</td>\n",
              "      <td>4602367</td>\n",
              "      <td>377930</td>\n",
              "      <td>0.891</td>\n",
              "      <td>Asia</td>\n",
              "    </tr>\n",
              "    <tr>\n",
              "      <th>5</th>\n",
              "      <td>64.511</td>\n",
              "      <td>2980039</td>\n",
              "      <td>242495</td>\n",
              "      <td>0.907</td>\n",
              "      <td>Europe</td>\n",
              "    </tr>\n",
              "    <tr>\n",
              "      <th>6</th>\n",
              "      <td>318.523</td>\n",
              "      <td>17348075</td>\n",
              "      <td>9525067</td>\n",
              "      <td>0.915</td>\n",
              "      <td>America</td>\n",
              "    </tr>\n",
              "  </tbody>\n",
              "</table>\n",
              "</div>"
            ],
            "text/plain": [
              "   Population       GDP  Surface Area    HDI Continent\n",
              "4     127.063   4602367        377930  0.891      Asia\n",
              "5      64.511   2980039        242495  0.907    Europe\n",
              "6     318.523  17348075       9525067  0.915   America"
            ]
          },
          "metadata": {
            "tags": []
          },
          "execution_count": 42
        }
      ]
    },
    {
      "cell_type": "code",
      "metadata": {
        "colab": {
          "base_uri": "https://localhost:8080/"
        },
        "id": "FkwJcLrpViVT",
        "outputId": "c9b0d53f-001e-4016-c4fe-a341a11f90bb"
      },
      "source": [
        "df.loc['Italy']"
      ],
      "execution_count": 49,
      "outputs": [
        {
          "output_type": "execute_result",
          "data": {
            "text/plain": [
              "Population       60.665\n",
              "GDP             2167744\n",
              "Surface Area     301336\n",
              "HDI               0.873\n",
              "Continent        Europe\n",
              "Name: Italy, dtype: object"
            ]
          },
          "metadata": {
            "tags": []
          },
          "execution_count": 49
        }
      ]
    },
    {
      "cell_type": "code",
      "metadata": {
        "colab": {
          "base_uri": "https://localhost:8080/"
        },
        "id": "v04Y6QYCViet",
        "outputId": "3b91ac79-d049-4cf7-e932-5b76cfa8df16"
      },
      "source": [
        "df.iloc[-1]"
      ],
      "execution_count": 51,
      "outputs": [
        {
          "output_type": "execute_result",
          "data": {
            "text/plain": [
              "Population       318.523\n",
              "GDP             17348075\n",
              "Surface Area     9525067\n",
              "HDI                0.915\n",
              "Continent        America\n",
              "Name: United States, dtype: object"
            ]
          },
          "metadata": {
            "tags": []
          },
          "execution_count": 51
        }
      ]
    },
    {
      "cell_type": "code",
      "metadata": {
        "colab": {
          "base_uri": "https://localhost:8080/",
          "height": 136
        },
        "id": "Kt_DZ2s-WOUj",
        "outputId": "e41ea04b-6c73-4824-b310-04d60ea7e431"
      },
      "source": [
        "df.loc['France' :'Italy',['Population', 'GDP']]"
      ],
      "execution_count": 56,
      "outputs": [
        {
          "output_type": "execute_result",
          "data": {
            "text/html": [
              "<div>\n",
              "<style scoped>\n",
              "    .dataframe tbody tr th:only-of-type {\n",
              "        vertical-align: middle;\n",
              "    }\n",
              "\n",
              "    .dataframe tbody tr th {\n",
              "        vertical-align: top;\n",
              "    }\n",
              "\n",
              "    .dataframe thead th {\n",
              "        text-align: right;\n",
              "    }\n",
              "</style>\n",
              "<table border=\"1\" class=\"dataframe\">\n",
              "  <thead>\n",
              "    <tr style=\"text-align: right;\">\n",
              "      <th></th>\n",
              "      <th>Population</th>\n",
              "      <th>GDP</th>\n",
              "    </tr>\n",
              "  </thead>\n",
              "  <tbody>\n",
              "    <tr>\n",
              "      <th>France</th>\n",
              "      <td>63.953</td>\n",
              "      <td>2833687</td>\n",
              "    </tr>\n",
              "    <tr>\n",
              "      <th>Germany</th>\n",
              "      <td>80.940</td>\n",
              "      <td>3874437</td>\n",
              "    </tr>\n",
              "    <tr>\n",
              "      <th>Italy</th>\n",
              "      <td>60.665</td>\n",
              "      <td>2167744</td>\n",
              "    </tr>\n",
              "  </tbody>\n",
              "</table>\n",
              "</div>"
            ],
            "text/plain": [
              "         Population      GDP\n",
              "France       63.953  2833687\n",
              "Germany      80.940  3874437\n",
              "Italy        60.665  2167744"
            ]
          },
          "metadata": {
            "tags": []
          },
          "execution_count": 56
        }
      ]
    },
    {
      "cell_type": "code",
      "metadata": {
        "colab": {
          "base_uri": "https://localhost:8080/",
          "height": 136
        },
        "id": "uUNxrWguWsq3",
        "outputId": "bd47b70f-5d69-49df-9686-0a4c08cdfda1"
      },
      "source": [
        "df.iloc[[0,0,-1]]"
      ],
      "execution_count": 57,
      "outputs": [
        {
          "output_type": "execute_result",
          "data": {
            "text/html": [
              "<div>\n",
              "<style scoped>\n",
              "    .dataframe tbody tr th:only-of-type {\n",
              "        vertical-align: middle;\n",
              "    }\n",
              "\n",
              "    .dataframe tbody tr th {\n",
              "        vertical-align: top;\n",
              "    }\n",
              "\n",
              "    .dataframe thead th {\n",
              "        text-align: right;\n",
              "    }\n",
              "</style>\n",
              "<table border=\"1\" class=\"dataframe\">\n",
              "  <thead>\n",
              "    <tr style=\"text-align: right;\">\n",
              "      <th></th>\n",
              "      <th>Population</th>\n",
              "      <th>GDP</th>\n",
              "      <th>Surface Area</th>\n",
              "      <th>HDI</th>\n",
              "      <th>Continent</th>\n",
              "    </tr>\n",
              "  </thead>\n",
              "  <tbody>\n",
              "    <tr>\n",
              "      <th>Canada</th>\n",
              "      <td>35.467</td>\n",
              "      <td>1785387</td>\n",
              "      <td>9964670</td>\n",
              "      <td>0.913</td>\n",
              "      <td>America</td>\n",
              "    </tr>\n",
              "    <tr>\n",
              "      <th>Canada</th>\n",
              "      <td>35.467</td>\n",
              "      <td>1785387</td>\n",
              "      <td>9964670</td>\n",
              "      <td>0.913</td>\n",
              "      <td>America</td>\n",
              "    </tr>\n",
              "    <tr>\n",
              "      <th>United States</th>\n",
              "      <td>318.523</td>\n",
              "      <td>17348075</td>\n",
              "      <td>9525067</td>\n",
              "      <td>0.915</td>\n",
              "      <td>America</td>\n",
              "    </tr>\n",
              "  </tbody>\n",
              "</table>\n",
              "</div>"
            ],
            "text/plain": [
              "               Population       GDP  Surface Area    HDI Continent\n",
              "Canada             35.467   1785387       9964670  0.913   America\n",
              "Canada             35.467   1785387       9964670  0.913   America\n",
              "United States     318.523  17348075       9525067  0.915   America"
            ]
          },
          "metadata": {
            "tags": []
          },
          "execution_count": 57
        }
      ]
    },
    {
      "cell_type": "code",
      "metadata": {
        "colab": {
          "base_uri": "https://localhost:8080/",
          "height": 166
        },
        "id": "zoQmDoNbWsxH",
        "outputId": "8d8490d2-474d-4ff5-d181-1232e411baee"
      },
      "source": [
        "df.iloc[1:5,[2, 4]]"
      ],
      "execution_count": 61,
      "outputs": [
        {
          "output_type": "execute_result",
          "data": {
            "text/html": [
              "<div>\n",
              "<style scoped>\n",
              "    .dataframe tbody tr th:only-of-type {\n",
              "        vertical-align: middle;\n",
              "    }\n",
              "\n",
              "    .dataframe tbody tr th {\n",
              "        vertical-align: top;\n",
              "    }\n",
              "\n",
              "    .dataframe thead th {\n",
              "        text-align: right;\n",
              "    }\n",
              "</style>\n",
              "<table border=\"1\" class=\"dataframe\">\n",
              "  <thead>\n",
              "    <tr style=\"text-align: right;\">\n",
              "      <th></th>\n",
              "      <th>Surface Area</th>\n",
              "      <th>Continent</th>\n",
              "    </tr>\n",
              "  </thead>\n",
              "  <tbody>\n",
              "    <tr>\n",
              "      <th>France</th>\n",
              "      <td>640879</td>\n",
              "      <td>Europe</td>\n",
              "    </tr>\n",
              "    <tr>\n",
              "      <th>Germany</th>\n",
              "      <td>357114</td>\n",
              "      <td>Europe</td>\n",
              "    </tr>\n",
              "    <tr>\n",
              "      <th>Italy</th>\n",
              "      <td>301336</td>\n",
              "      <td>Europe</td>\n",
              "    </tr>\n",
              "    <tr>\n",
              "      <th>Japan</th>\n",
              "      <td>377930</td>\n",
              "      <td>Asia</td>\n",
              "    </tr>\n",
              "  </tbody>\n",
              "</table>\n",
              "</div>"
            ],
            "text/plain": [
              "         Surface Area Continent\n",
              "France         640879    Europe\n",
              "Germany        357114    Europe\n",
              "Italy          301336    Europe\n",
              "Japan          377930      Asia"
            ]
          },
          "metadata": {
            "tags": []
          },
          "execution_count": 61
        }
      ]
    },
    {
      "cell_type": "code",
      "metadata": {
        "colab": {
          "base_uri": "https://localhost:8080/",
          "height": 106
        },
        "id": "7-ThAtW9Ws-4",
        "outputId": "36ec13f6-6dd1-4268-8e99-dbcab9f34b2b"
      },
      "source": [
        "df.iloc[1:3, 0:3]"
      ],
      "execution_count": 65,
      "outputs": [
        {
          "output_type": "execute_result",
          "data": {
            "text/html": [
              "<div>\n",
              "<style scoped>\n",
              "    .dataframe tbody tr th:only-of-type {\n",
              "        vertical-align: middle;\n",
              "    }\n",
              "\n",
              "    .dataframe tbody tr th {\n",
              "        vertical-align: top;\n",
              "    }\n",
              "\n",
              "    .dataframe thead th {\n",
              "        text-align: right;\n",
              "    }\n",
              "</style>\n",
              "<table border=\"1\" class=\"dataframe\">\n",
              "  <thead>\n",
              "    <tr style=\"text-align: right;\">\n",
              "      <th></th>\n",
              "      <th>Population</th>\n",
              "      <th>GDP</th>\n",
              "      <th>Surface Area</th>\n",
              "    </tr>\n",
              "  </thead>\n",
              "  <tbody>\n",
              "    <tr>\n",
              "      <th>France</th>\n",
              "      <td>63.953</td>\n",
              "      <td>2833687</td>\n",
              "      <td>640879</td>\n",
              "    </tr>\n",
              "    <tr>\n",
              "      <th>Germany</th>\n",
              "      <td>80.940</td>\n",
              "      <td>3874437</td>\n",
              "      <td>357114</td>\n",
              "    </tr>\n",
              "  </tbody>\n",
              "</table>\n",
              "</div>"
            ],
            "text/plain": [
              "         Population      GDP  Surface Area\n",
              "France       63.953  2833687        640879\n",
              "Germany      80.940  3874437        357114"
            ]
          },
          "metadata": {
            "tags": []
          },
          "execution_count": 65
        }
      ]
    },
    {
      "cell_type": "markdown",
      "metadata": {
        "id": "d06oxepaXQNZ"
      },
      "source": [
        "**RECOMMENDED: Always use ```loc``` and ```iloc``` to reduce ambiguity, specifically with```Data Frame```s with numberic indexes.**"
      ]
    },
    {
      "cell_type": "markdown",
      "metadata": {
        "id": "wOFcwHThXp0O"
      },
      "source": [
        "##**Conditional Selection** **(boolean Arrays)**"
      ]
    },
    {
      "cell_type": "markdown",
      "metadata": {
        "id": "AvlezVp0XuNc"
      },
      "source": [
        "As applied in ```Series``` we also apply conditionals on the ```Data Frame```s. After all, ```Data Frame``` is a collection of ```Series```."
      ]
    },
    {
      "cell_type": "code",
      "metadata": {
        "colab": {
          "base_uri": "https://localhost:8080/",
          "height": 254
        },
        "id": "ywQkCwRSXvi-",
        "outputId": "a69aeaf7-71b9-4187-a8f0-3d5f7395d666"
      },
      "source": [
        "df"
      ],
      "execution_count": 66,
      "outputs": [
        {
          "output_type": "execute_result",
          "data": {
            "text/html": [
              "<div>\n",
              "<style scoped>\n",
              "    .dataframe tbody tr th:only-of-type {\n",
              "        vertical-align: middle;\n",
              "    }\n",
              "\n",
              "    .dataframe tbody tr th {\n",
              "        vertical-align: top;\n",
              "    }\n",
              "\n",
              "    .dataframe thead th {\n",
              "        text-align: right;\n",
              "    }\n",
              "</style>\n",
              "<table border=\"1\" class=\"dataframe\">\n",
              "  <thead>\n",
              "    <tr style=\"text-align: right;\">\n",
              "      <th></th>\n",
              "      <th>Population</th>\n",
              "      <th>GDP</th>\n",
              "      <th>Surface Area</th>\n",
              "      <th>HDI</th>\n",
              "      <th>Continent</th>\n",
              "    </tr>\n",
              "  </thead>\n",
              "  <tbody>\n",
              "    <tr>\n",
              "      <th>Canada</th>\n",
              "      <td>35.467</td>\n",
              "      <td>1785387</td>\n",
              "      <td>9964670</td>\n",
              "      <td>0.913</td>\n",
              "      <td>America</td>\n",
              "    </tr>\n",
              "    <tr>\n",
              "      <th>France</th>\n",
              "      <td>63.953</td>\n",
              "      <td>2833687</td>\n",
              "      <td>640879</td>\n",
              "      <td>0.888</td>\n",
              "      <td>Europe</td>\n",
              "    </tr>\n",
              "    <tr>\n",
              "      <th>Germany</th>\n",
              "      <td>80.940</td>\n",
              "      <td>3874437</td>\n",
              "      <td>357114</td>\n",
              "      <td>0.916</td>\n",
              "      <td>Europe</td>\n",
              "    </tr>\n",
              "    <tr>\n",
              "      <th>Italy</th>\n",
              "      <td>60.665</td>\n",
              "      <td>2167744</td>\n",
              "      <td>301336</td>\n",
              "      <td>0.873</td>\n",
              "      <td>Europe</td>\n",
              "    </tr>\n",
              "    <tr>\n",
              "      <th>Japan</th>\n",
              "      <td>127.063</td>\n",
              "      <td>4602367</td>\n",
              "      <td>377930</td>\n",
              "      <td>0.891</td>\n",
              "      <td>Asia</td>\n",
              "    </tr>\n",
              "    <tr>\n",
              "      <th>United Kingdom</th>\n",
              "      <td>64.511</td>\n",
              "      <td>2980039</td>\n",
              "      <td>242495</td>\n",
              "      <td>0.907</td>\n",
              "      <td>Europe</td>\n",
              "    </tr>\n",
              "    <tr>\n",
              "      <th>United States</th>\n",
              "      <td>318.523</td>\n",
              "      <td>17348075</td>\n",
              "      <td>9525067</td>\n",
              "      <td>0.915</td>\n",
              "      <td>America</td>\n",
              "    </tr>\n",
              "  </tbody>\n",
              "</table>\n",
              "</div>"
            ],
            "text/plain": [
              "                Population       GDP  Surface Area    HDI Continent\n",
              "Canada              35.467   1785387       9964670  0.913   America\n",
              "France              63.953   2833687        640879  0.888    Europe\n",
              "Germany             80.940   3874437        357114  0.916    Europe\n",
              "Italy               60.665   2167744        301336  0.873    Europe\n",
              "Japan              127.063   4602367        377930  0.891      Asia\n",
              "United Kingdom      64.511   2980039        242495  0.907    Europe\n",
              "United States      318.523  17348075       9525067  0.915   America"
            ]
          },
          "metadata": {
            "tags": []
          },
          "execution_count": 66
        }
      ]
    },
    {
      "cell_type": "code",
      "metadata": {
        "colab": {
          "base_uri": "https://localhost:8080/"
        },
        "id": "BkVJlQWdYQLo",
        "outputId": "a9a6cfe1-4952-496a-e952-1255b2613d71"
      },
      "source": [
        "df['Population']"
      ],
      "execution_count": 67,
      "outputs": [
        {
          "output_type": "execute_result",
          "data": {
            "text/plain": [
              "Canada             35.467\n",
              "France             63.953\n",
              "Germany            80.940\n",
              "Italy              60.665\n",
              "Japan             127.063\n",
              "United Kingdom     64.511\n",
              "United States     318.523\n",
              "Name: Population, dtype: float64"
            ]
          },
          "metadata": {
            "tags": []
          },
          "execution_count": 67
        }
      ]
    },
    {
      "cell_type": "code",
      "metadata": {
        "colab": {
          "base_uri": "https://localhost:8080/"
        },
        "id": "wVpUVGvZbHni",
        "outputId": "99768585-9dbc-43e8-90fc-3c6f91360520"
      },
      "source": [
        "df['Population'] > 70"
      ],
      "execution_count": 68,
      "outputs": [
        {
          "output_type": "execute_result",
          "data": {
            "text/plain": [
              "Canada            False\n",
              "France            False\n",
              "Germany            True\n",
              "Italy             False\n",
              "Japan              True\n",
              "United Kingdom    False\n",
              "United States      True\n",
              "Name: Population, dtype: bool"
            ]
          },
          "metadata": {
            "tags": []
          },
          "execution_count": 68
        }
      ]
    },
    {
      "cell_type": "code",
      "metadata": {
        "colab": {
          "base_uri": "https://localhost:8080/",
          "height": 136
        },
        "id": "RsCcJnNtbLhY",
        "outputId": "d48fcfe9-dc23-40eb-c4c7-9096b15ce488"
      },
      "source": [
        "df.loc[df['Population'] > 70]"
      ],
      "execution_count": 69,
      "outputs": [
        {
          "output_type": "execute_result",
          "data": {
            "text/html": [
              "<div>\n",
              "<style scoped>\n",
              "    .dataframe tbody tr th:only-of-type {\n",
              "        vertical-align: middle;\n",
              "    }\n",
              "\n",
              "    .dataframe tbody tr th {\n",
              "        vertical-align: top;\n",
              "    }\n",
              "\n",
              "    .dataframe thead th {\n",
              "        text-align: right;\n",
              "    }\n",
              "</style>\n",
              "<table border=\"1\" class=\"dataframe\">\n",
              "  <thead>\n",
              "    <tr style=\"text-align: right;\">\n",
              "      <th></th>\n",
              "      <th>Population</th>\n",
              "      <th>GDP</th>\n",
              "      <th>Surface Area</th>\n",
              "      <th>HDI</th>\n",
              "      <th>Continent</th>\n",
              "    </tr>\n",
              "  </thead>\n",
              "  <tbody>\n",
              "    <tr>\n",
              "      <th>Germany</th>\n",
              "      <td>80.940</td>\n",
              "      <td>3874437</td>\n",
              "      <td>357114</td>\n",
              "      <td>0.916</td>\n",
              "      <td>Europe</td>\n",
              "    </tr>\n",
              "    <tr>\n",
              "      <th>Japan</th>\n",
              "      <td>127.063</td>\n",
              "      <td>4602367</td>\n",
              "      <td>377930</td>\n",
              "      <td>0.891</td>\n",
              "      <td>Asia</td>\n",
              "    </tr>\n",
              "    <tr>\n",
              "      <th>United States</th>\n",
              "      <td>318.523</td>\n",
              "      <td>17348075</td>\n",
              "      <td>9525067</td>\n",
              "      <td>0.915</td>\n",
              "      <td>America</td>\n",
              "    </tr>\n",
              "  </tbody>\n",
              "</table>\n",
              "</div>"
            ],
            "text/plain": [
              "               Population       GDP  Surface Area    HDI Continent\n",
              "Germany            80.940   3874437        357114  0.916    Europe\n",
              "Japan             127.063   4602367        377930  0.891      Asia\n",
              "United States     318.523  17348075       9525067  0.915   America"
            ]
          },
          "metadata": {
            "tags": []
          },
          "execution_count": 69
        }
      ]
    },
    {
      "cell_type": "code",
      "metadata": {
        "colab": {
          "base_uri": "https://localhost:8080/"
        },
        "id": "Pi7B8941cUJC",
        "outputId": "60e8e23b-67ef-4560-c3c5-e6b81560811e"
      },
      "source": [
        "df.loc[df['Population'] > 70, 'Population']"
      ],
      "execution_count": 73,
      "outputs": [
        {
          "output_type": "execute_result",
          "data": {
            "text/plain": [
              "Germany           80.940\n",
              "Japan            127.063\n",
              "United States    318.523\n",
              "Name: Population, dtype: float64"
            ]
          },
          "metadata": {
            "tags": []
          },
          "execution_count": 73
        }
      ]
    },
    {
      "cell_type": "code",
      "metadata": {
        "colab": {
          "base_uri": "https://localhost:8080/",
          "height": 136
        },
        "id": "ptwtj9e3bRmS",
        "outputId": "04ba462d-bb7c-44f4-ede1-6ff92c1d97aa"
      },
      "source": [
        "df.loc[df['Population'] > 70, ['Population', 'GDP']]"
      ],
      "execution_count": 77,
      "outputs": [
        {
          "output_type": "execute_result",
          "data": {
            "text/html": [
              "<div>\n",
              "<style scoped>\n",
              "    .dataframe tbody tr th:only-of-type {\n",
              "        vertical-align: middle;\n",
              "    }\n",
              "\n",
              "    .dataframe tbody tr th {\n",
              "        vertical-align: top;\n",
              "    }\n",
              "\n",
              "    .dataframe thead th {\n",
              "        text-align: right;\n",
              "    }\n",
              "</style>\n",
              "<table border=\"1\" class=\"dataframe\">\n",
              "  <thead>\n",
              "    <tr style=\"text-align: right;\">\n",
              "      <th></th>\n",
              "      <th>Population</th>\n",
              "      <th>GDP</th>\n",
              "    </tr>\n",
              "  </thead>\n",
              "  <tbody>\n",
              "    <tr>\n",
              "      <th>Germany</th>\n",
              "      <td>80.940</td>\n",
              "      <td>3874437</td>\n",
              "    </tr>\n",
              "    <tr>\n",
              "      <th>Japan</th>\n",
              "      <td>127.063</td>\n",
              "      <td>4602367</td>\n",
              "    </tr>\n",
              "    <tr>\n",
              "      <th>United States</th>\n",
              "      <td>318.523</td>\n",
              "      <td>17348075</td>\n",
              "    </tr>\n",
              "  </tbody>\n",
              "</table>\n",
              "</div>"
            ],
            "text/plain": [
              "               Population       GDP\n",
              "Germany            80.940   3874437\n",
              "Japan             127.063   4602367\n",
              "United States     318.523  17348075"
            ]
          },
          "metadata": {
            "tags": []
          },
          "execution_count": 77
        }
      ]
    },
    {
      "cell_type": "markdown",
      "metadata": {
        "id": "9hMlFheqctWV"
      },
      "source": [
        "##**Dropping Stuff**"
      ]
    },
    {
      "cell_type": "code",
      "metadata": {
        "colab": {
          "base_uri": "https://localhost:8080/",
          "height": 225
        },
        "id": "Jr17YLuBcsKS",
        "outputId": "83f6e790-1c3b-43a4-bf4d-64b4530b3923"
      },
      "source": [
        "df.drop('Canada')"
      ],
      "execution_count": 79,
      "outputs": [
        {
          "output_type": "execute_result",
          "data": {
            "text/html": [
              "<div>\n",
              "<style scoped>\n",
              "    .dataframe tbody tr th:only-of-type {\n",
              "        vertical-align: middle;\n",
              "    }\n",
              "\n",
              "    .dataframe tbody tr th {\n",
              "        vertical-align: top;\n",
              "    }\n",
              "\n",
              "    .dataframe thead th {\n",
              "        text-align: right;\n",
              "    }\n",
              "</style>\n",
              "<table border=\"1\" class=\"dataframe\">\n",
              "  <thead>\n",
              "    <tr style=\"text-align: right;\">\n",
              "      <th></th>\n",
              "      <th>Population</th>\n",
              "      <th>GDP</th>\n",
              "      <th>Surface Area</th>\n",
              "      <th>HDI</th>\n",
              "      <th>Continent</th>\n",
              "    </tr>\n",
              "  </thead>\n",
              "  <tbody>\n",
              "    <tr>\n",
              "      <th>France</th>\n",
              "      <td>63.953</td>\n",
              "      <td>2833687</td>\n",
              "      <td>640879</td>\n",
              "      <td>0.888</td>\n",
              "      <td>Europe</td>\n",
              "    </tr>\n",
              "    <tr>\n",
              "      <th>Germany</th>\n",
              "      <td>80.940</td>\n",
              "      <td>3874437</td>\n",
              "      <td>357114</td>\n",
              "      <td>0.916</td>\n",
              "      <td>Europe</td>\n",
              "    </tr>\n",
              "    <tr>\n",
              "      <th>Italy</th>\n",
              "      <td>60.665</td>\n",
              "      <td>2167744</td>\n",
              "      <td>301336</td>\n",
              "      <td>0.873</td>\n",
              "      <td>Europe</td>\n",
              "    </tr>\n",
              "    <tr>\n",
              "      <th>Japan</th>\n",
              "      <td>127.063</td>\n",
              "      <td>4602367</td>\n",
              "      <td>377930</td>\n",
              "      <td>0.891</td>\n",
              "      <td>Asia</td>\n",
              "    </tr>\n",
              "    <tr>\n",
              "      <th>United Kingdom</th>\n",
              "      <td>64.511</td>\n",
              "      <td>2980039</td>\n",
              "      <td>242495</td>\n",
              "      <td>0.907</td>\n",
              "      <td>Europe</td>\n",
              "    </tr>\n",
              "    <tr>\n",
              "      <th>United States</th>\n",
              "      <td>318.523</td>\n",
              "      <td>17348075</td>\n",
              "      <td>9525067</td>\n",
              "      <td>0.915</td>\n",
              "      <td>America</td>\n",
              "    </tr>\n",
              "  </tbody>\n",
              "</table>\n",
              "</div>"
            ],
            "text/plain": [
              "                Population       GDP  Surface Area    HDI Continent\n",
              "France              63.953   2833687        640879  0.888    Europe\n",
              "Germany             80.940   3874437        357114  0.916    Europe\n",
              "Italy               60.665   2167744        301336  0.873    Europe\n",
              "Japan              127.063   4602367        377930  0.891      Asia\n",
              "United Kingdom      64.511   2980039        242495  0.907    Europe\n",
              "United States      318.523  17348075       9525067  0.915   America"
            ]
          },
          "metadata": {
            "tags": []
          },
          "execution_count": 79
        }
      ]
    },
    {
      "cell_type": "code",
      "metadata": {
        "colab": {
          "base_uri": "https://localhost:8080/",
          "height": 254
        },
        "id": "68mpzkHKcsQp",
        "outputId": "466cf2c8-36a4-436b-f5d3-26872b33c32a"
      },
      "source": [
        "df.drop(columns=['HDI', 'Surface Area'])"
      ],
      "execution_count": 80,
      "outputs": [
        {
          "output_type": "execute_result",
          "data": {
            "text/html": [
              "<div>\n",
              "<style scoped>\n",
              "    .dataframe tbody tr th:only-of-type {\n",
              "        vertical-align: middle;\n",
              "    }\n",
              "\n",
              "    .dataframe tbody tr th {\n",
              "        vertical-align: top;\n",
              "    }\n",
              "\n",
              "    .dataframe thead th {\n",
              "        text-align: right;\n",
              "    }\n",
              "</style>\n",
              "<table border=\"1\" class=\"dataframe\">\n",
              "  <thead>\n",
              "    <tr style=\"text-align: right;\">\n",
              "      <th></th>\n",
              "      <th>Population</th>\n",
              "      <th>GDP</th>\n",
              "      <th>Continent</th>\n",
              "    </tr>\n",
              "  </thead>\n",
              "  <tbody>\n",
              "    <tr>\n",
              "      <th>Canada</th>\n",
              "      <td>35.467</td>\n",
              "      <td>1785387</td>\n",
              "      <td>America</td>\n",
              "    </tr>\n",
              "    <tr>\n",
              "      <th>France</th>\n",
              "      <td>63.953</td>\n",
              "      <td>2833687</td>\n",
              "      <td>Europe</td>\n",
              "    </tr>\n",
              "    <tr>\n",
              "      <th>Germany</th>\n",
              "      <td>80.940</td>\n",
              "      <td>3874437</td>\n",
              "      <td>Europe</td>\n",
              "    </tr>\n",
              "    <tr>\n",
              "      <th>Italy</th>\n",
              "      <td>60.665</td>\n",
              "      <td>2167744</td>\n",
              "      <td>Europe</td>\n",
              "    </tr>\n",
              "    <tr>\n",
              "      <th>Japan</th>\n",
              "      <td>127.063</td>\n",
              "      <td>4602367</td>\n",
              "      <td>Asia</td>\n",
              "    </tr>\n",
              "    <tr>\n",
              "      <th>United Kingdom</th>\n",
              "      <td>64.511</td>\n",
              "      <td>2980039</td>\n",
              "      <td>Europe</td>\n",
              "    </tr>\n",
              "    <tr>\n",
              "      <th>United States</th>\n",
              "      <td>318.523</td>\n",
              "      <td>17348075</td>\n",
              "      <td>America</td>\n",
              "    </tr>\n",
              "  </tbody>\n",
              "</table>\n",
              "</div>"
            ],
            "text/plain": [
              "                Population       GDP Continent\n",
              "Canada              35.467   1785387   America\n",
              "France              63.953   2833687    Europe\n",
              "Germany             80.940   3874437    Europe\n",
              "Italy               60.665   2167744    Europe\n",
              "Japan              127.063   4602367      Asia\n",
              "United Kingdom      64.511   2980039    Europe\n",
              "United States      318.523  17348075   America"
            ]
          },
          "metadata": {
            "tags": []
          },
          "execution_count": 80
        }
      ]
    },
    {
      "cell_type": "code",
      "metadata": {
        "colab": {
          "base_uri": "https://localhost:8080/",
          "height": 254
        },
        "id": "F9SivYE_csXe",
        "outputId": "14c12425-8c4f-45a8-89e4-6e871159137d"
      },
      "source": [
        "df.drop(['Population', 'Continent'], axis=1)"
      ],
      "execution_count": 82,
      "outputs": [
        {
          "output_type": "execute_result",
          "data": {
            "text/html": [
              "<div>\n",
              "<style scoped>\n",
              "    .dataframe tbody tr th:only-of-type {\n",
              "        vertical-align: middle;\n",
              "    }\n",
              "\n",
              "    .dataframe tbody tr th {\n",
              "        vertical-align: top;\n",
              "    }\n",
              "\n",
              "    .dataframe thead th {\n",
              "        text-align: right;\n",
              "    }\n",
              "</style>\n",
              "<table border=\"1\" class=\"dataframe\">\n",
              "  <thead>\n",
              "    <tr style=\"text-align: right;\">\n",
              "      <th></th>\n",
              "      <th>GDP</th>\n",
              "      <th>Surface Area</th>\n",
              "      <th>HDI</th>\n",
              "    </tr>\n",
              "  </thead>\n",
              "  <tbody>\n",
              "    <tr>\n",
              "      <th>Canada</th>\n",
              "      <td>1785387</td>\n",
              "      <td>9964670</td>\n",
              "      <td>0.913</td>\n",
              "    </tr>\n",
              "    <tr>\n",
              "      <th>France</th>\n",
              "      <td>2833687</td>\n",
              "      <td>640879</td>\n",
              "      <td>0.888</td>\n",
              "    </tr>\n",
              "    <tr>\n",
              "      <th>Germany</th>\n",
              "      <td>3874437</td>\n",
              "      <td>357114</td>\n",
              "      <td>0.916</td>\n",
              "    </tr>\n",
              "    <tr>\n",
              "      <th>Italy</th>\n",
              "      <td>2167744</td>\n",
              "      <td>301336</td>\n",
              "      <td>0.873</td>\n",
              "    </tr>\n",
              "    <tr>\n",
              "      <th>Japan</th>\n",
              "      <td>4602367</td>\n",
              "      <td>377930</td>\n",
              "      <td>0.891</td>\n",
              "    </tr>\n",
              "    <tr>\n",
              "      <th>United Kingdom</th>\n",
              "      <td>2980039</td>\n",
              "      <td>242495</td>\n",
              "      <td>0.907</td>\n",
              "    </tr>\n",
              "    <tr>\n",
              "      <th>United States</th>\n",
              "      <td>17348075</td>\n",
              "      <td>9525067</td>\n",
              "      <td>0.915</td>\n",
              "    </tr>\n",
              "  </tbody>\n",
              "</table>\n",
              "</div>"
            ],
            "text/plain": [
              "                     GDP  Surface Area    HDI\n",
              "Canada           1785387       9964670  0.913\n",
              "France           2833687        640879  0.888\n",
              "Germany          3874437        357114  0.916\n",
              "Italy            2167744        301336  0.873\n",
              "Japan            4602367        377930  0.891\n",
              "United Kingdom   2980039        242495  0.907\n",
              "United States   17348075       9525067  0.915"
            ]
          },
          "metadata": {
            "tags": []
          },
          "execution_count": 82
        }
      ]
    },
    {
      "cell_type": "code",
      "metadata": {
        "colab": {
          "base_uri": "https://localhost:8080/",
          "height": 254
        },
        "id": "hZxKA4T2cseR",
        "outputId": "779d2cf0-184c-45d9-eb90-5df74a062d90"
      },
      "source": [
        "df.drop(['Population', 'HDI'], axis = 'columns')"
      ],
      "execution_count": 83,
      "outputs": [
        {
          "output_type": "execute_result",
          "data": {
            "text/html": [
              "<div>\n",
              "<style scoped>\n",
              "    .dataframe tbody tr th:only-of-type {\n",
              "        vertical-align: middle;\n",
              "    }\n",
              "\n",
              "    .dataframe tbody tr th {\n",
              "        vertical-align: top;\n",
              "    }\n",
              "\n",
              "    .dataframe thead th {\n",
              "        text-align: right;\n",
              "    }\n",
              "</style>\n",
              "<table border=\"1\" class=\"dataframe\">\n",
              "  <thead>\n",
              "    <tr style=\"text-align: right;\">\n",
              "      <th></th>\n",
              "      <th>GDP</th>\n",
              "      <th>Surface Area</th>\n",
              "      <th>Continent</th>\n",
              "    </tr>\n",
              "  </thead>\n",
              "  <tbody>\n",
              "    <tr>\n",
              "      <th>Canada</th>\n",
              "      <td>1785387</td>\n",
              "      <td>9964670</td>\n",
              "      <td>America</td>\n",
              "    </tr>\n",
              "    <tr>\n",
              "      <th>France</th>\n",
              "      <td>2833687</td>\n",
              "      <td>640879</td>\n",
              "      <td>Europe</td>\n",
              "    </tr>\n",
              "    <tr>\n",
              "      <th>Germany</th>\n",
              "      <td>3874437</td>\n",
              "      <td>357114</td>\n",
              "      <td>Europe</td>\n",
              "    </tr>\n",
              "    <tr>\n",
              "      <th>Italy</th>\n",
              "      <td>2167744</td>\n",
              "      <td>301336</td>\n",
              "      <td>Europe</td>\n",
              "    </tr>\n",
              "    <tr>\n",
              "      <th>Japan</th>\n",
              "      <td>4602367</td>\n",
              "      <td>377930</td>\n",
              "      <td>Asia</td>\n",
              "    </tr>\n",
              "    <tr>\n",
              "      <th>United Kingdom</th>\n",
              "      <td>2980039</td>\n",
              "      <td>242495</td>\n",
              "      <td>Europe</td>\n",
              "    </tr>\n",
              "    <tr>\n",
              "      <th>United States</th>\n",
              "      <td>17348075</td>\n",
              "      <td>9525067</td>\n",
              "      <td>America</td>\n",
              "    </tr>\n",
              "  </tbody>\n",
              "</table>\n",
              "</div>"
            ],
            "text/plain": [
              "                     GDP  Surface Area Continent\n",
              "Canada           1785387       9964670   America\n",
              "France           2833687        640879    Europe\n",
              "Germany          3874437        357114    Europe\n",
              "Italy            2167744        301336    Europe\n",
              "Japan            4602367        377930      Asia\n",
              "United Kingdom   2980039        242495    Europe\n",
              "United States   17348075       9525067   America"
            ]
          },
          "metadata": {
            "tags": []
          },
          "execution_count": 83
        }
      ]
    },
    {
      "cell_type": "code",
      "metadata": {
        "colab": {
          "base_uri": "https://localhost:8080/",
          "height": 195
        },
        "id": "H8mXPdlHdZc-",
        "outputId": "d10a8fad-11b5-456a-90eb-250e24ec795d"
      },
      "source": [
        "df.drop(['Canada', 'Germany'], axis = 'rows')"
      ],
      "execution_count": 85,
      "outputs": [
        {
          "output_type": "execute_result",
          "data": {
            "text/html": [
              "<div>\n",
              "<style scoped>\n",
              "    .dataframe tbody tr th:only-of-type {\n",
              "        vertical-align: middle;\n",
              "    }\n",
              "\n",
              "    .dataframe tbody tr th {\n",
              "        vertical-align: top;\n",
              "    }\n",
              "\n",
              "    .dataframe thead th {\n",
              "        text-align: right;\n",
              "    }\n",
              "</style>\n",
              "<table border=\"1\" class=\"dataframe\">\n",
              "  <thead>\n",
              "    <tr style=\"text-align: right;\">\n",
              "      <th></th>\n",
              "      <th>Population</th>\n",
              "      <th>GDP</th>\n",
              "      <th>Surface Area</th>\n",
              "      <th>HDI</th>\n",
              "      <th>Continent</th>\n",
              "    </tr>\n",
              "  </thead>\n",
              "  <tbody>\n",
              "    <tr>\n",
              "      <th>France</th>\n",
              "      <td>63.953</td>\n",
              "      <td>2833687</td>\n",
              "      <td>640879</td>\n",
              "      <td>0.888</td>\n",
              "      <td>Europe</td>\n",
              "    </tr>\n",
              "    <tr>\n",
              "      <th>Italy</th>\n",
              "      <td>60.665</td>\n",
              "      <td>2167744</td>\n",
              "      <td>301336</td>\n",
              "      <td>0.873</td>\n",
              "      <td>Europe</td>\n",
              "    </tr>\n",
              "    <tr>\n",
              "      <th>Japan</th>\n",
              "      <td>127.063</td>\n",
              "      <td>4602367</td>\n",
              "      <td>377930</td>\n",
              "      <td>0.891</td>\n",
              "      <td>Asia</td>\n",
              "    </tr>\n",
              "    <tr>\n",
              "      <th>United Kingdom</th>\n",
              "      <td>64.511</td>\n",
              "      <td>2980039</td>\n",
              "      <td>242495</td>\n",
              "      <td>0.907</td>\n",
              "      <td>Europe</td>\n",
              "    </tr>\n",
              "    <tr>\n",
              "      <th>United States</th>\n",
              "      <td>318.523</td>\n",
              "      <td>17348075</td>\n",
              "      <td>9525067</td>\n",
              "      <td>0.915</td>\n",
              "      <td>America</td>\n",
              "    </tr>\n",
              "  </tbody>\n",
              "</table>\n",
              "</div>"
            ],
            "text/plain": [
              "                Population       GDP  Surface Area    HDI Continent\n",
              "France              63.953   2833687        640879  0.888    Europe\n",
              "Italy               60.665   2167744        301336  0.873    Europe\n",
              "Japan              127.063   4602367        377930  0.891      Asia\n",
              "United Kingdom      64.511   2980039        242495  0.907    Europe\n",
              "United States      318.523  17348075       9525067  0.915   America"
            ]
          },
          "metadata": {
            "tags": []
          },
          "execution_count": 85
        }
      ]
    },
    {
      "cell_type": "code",
      "metadata": {
        "id": "n7sQaTovdkQh"
      },
      "source": [
        "crisis = pd.Series([-1_000_000, -0.3], index=['GDP', 'HDI'])"
      ],
      "execution_count": 87,
      "outputs": []
    },
    {
      "cell_type": "code",
      "metadata": {
        "colab": {
          "base_uri": "https://localhost:8080/",
          "height": 254
        },
        "id": "qQ5ofKPldvqk",
        "outputId": "747fc4cd-1dac-43a1-ff4f-5ba35a6c32a0"
      },
      "source": [
        "df[['GDP', 'HDI']] + crisis"
      ],
      "execution_count": 88,
      "outputs": [
        {
          "output_type": "execute_result",
          "data": {
            "text/html": [
              "<div>\n",
              "<style scoped>\n",
              "    .dataframe tbody tr th:only-of-type {\n",
              "        vertical-align: middle;\n",
              "    }\n",
              "\n",
              "    .dataframe tbody tr th {\n",
              "        vertical-align: top;\n",
              "    }\n",
              "\n",
              "    .dataframe thead th {\n",
              "        text-align: right;\n",
              "    }\n",
              "</style>\n",
              "<table border=\"1\" class=\"dataframe\">\n",
              "  <thead>\n",
              "    <tr style=\"text-align: right;\">\n",
              "      <th></th>\n",
              "      <th>GDP</th>\n",
              "      <th>HDI</th>\n",
              "    </tr>\n",
              "  </thead>\n",
              "  <tbody>\n",
              "    <tr>\n",
              "      <th>Canada</th>\n",
              "      <td>785387.0</td>\n",
              "      <td>0.613</td>\n",
              "    </tr>\n",
              "    <tr>\n",
              "      <th>France</th>\n",
              "      <td>1833687.0</td>\n",
              "      <td>0.588</td>\n",
              "    </tr>\n",
              "    <tr>\n",
              "      <th>Germany</th>\n",
              "      <td>2874437.0</td>\n",
              "      <td>0.616</td>\n",
              "    </tr>\n",
              "    <tr>\n",
              "      <th>Italy</th>\n",
              "      <td>1167744.0</td>\n",
              "      <td>0.573</td>\n",
              "    </tr>\n",
              "    <tr>\n",
              "      <th>Japan</th>\n",
              "      <td>3602367.0</td>\n",
              "      <td>0.591</td>\n",
              "    </tr>\n",
              "    <tr>\n",
              "      <th>United Kingdom</th>\n",
              "      <td>1980039.0</td>\n",
              "      <td>0.607</td>\n",
              "    </tr>\n",
              "    <tr>\n",
              "      <th>United States</th>\n",
              "      <td>16348075.0</td>\n",
              "      <td>0.615</td>\n",
              "    </tr>\n",
              "  </tbody>\n",
              "</table>\n",
              "</div>"
            ],
            "text/plain": [
              "                       GDP    HDI\n",
              "Canada            785387.0  0.613\n",
              "France           1833687.0  0.588\n",
              "Germany          2874437.0  0.616\n",
              "Italy            1167744.0  0.573\n",
              "Japan            3602367.0  0.591\n",
              "United Kingdom   1980039.0  0.607\n",
              "United States   16348075.0  0.615"
            ]
          },
          "metadata": {
            "tags": []
          },
          "execution_count": 88
        }
      ]
    },
    {
      "cell_type": "code",
      "metadata": {
        "id": "mJY_6lLdeBG6"
      },
      "source": [
        "rise = pd.Series([1_000, 0.3], index=['GDP', 'HDI'])"
      ],
      "execution_count": 90,
      "outputs": []
    },
    {
      "cell_type": "code",
      "metadata": {
        "colab": {
          "base_uri": "https://localhost:8080/",
          "height": 254
        },
        "id": "oorVNcfVeI5c",
        "outputId": "75f3072c-8c89-411f-a3b9-285ef6df9f2d"
      },
      "source": [
        "df[['GDP', 'HDI']] + rise"
      ],
      "execution_count": 91,
      "outputs": [
        {
          "output_type": "execute_result",
          "data": {
            "text/html": [
              "<div>\n",
              "<style scoped>\n",
              "    .dataframe tbody tr th:only-of-type {\n",
              "        vertical-align: middle;\n",
              "    }\n",
              "\n",
              "    .dataframe tbody tr th {\n",
              "        vertical-align: top;\n",
              "    }\n",
              "\n",
              "    .dataframe thead th {\n",
              "        text-align: right;\n",
              "    }\n",
              "</style>\n",
              "<table border=\"1\" class=\"dataframe\">\n",
              "  <thead>\n",
              "    <tr style=\"text-align: right;\">\n",
              "      <th></th>\n",
              "      <th>GDP</th>\n",
              "      <th>HDI</th>\n",
              "    </tr>\n",
              "  </thead>\n",
              "  <tbody>\n",
              "    <tr>\n",
              "      <th>Canada</th>\n",
              "      <td>1786387.0</td>\n",
              "      <td>1.213</td>\n",
              "    </tr>\n",
              "    <tr>\n",
              "      <th>France</th>\n",
              "      <td>2834687.0</td>\n",
              "      <td>1.188</td>\n",
              "    </tr>\n",
              "    <tr>\n",
              "      <th>Germany</th>\n",
              "      <td>3875437.0</td>\n",
              "      <td>1.216</td>\n",
              "    </tr>\n",
              "    <tr>\n",
              "      <th>Italy</th>\n",
              "      <td>2168744.0</td>\n",
              "      <td>1.173</td>\n",
              "    </tr>\n",
              "    <tr>\n",
              "      <th>Japan</th>\n",
              "      <td>4603367.0</td>\n",
              "      <td>1.191</td>\n",
              "    </tr>\n",
              "    <tr>\n",
              "      <th>United Kingdom</th>\n",
              "      <td>2981039.0</td>\n",
              "      <td>1.207</td>\n",
              "    </tr>\n",
              "    <tr>\n",
              "      <th>United States</th>\n",
              "      <td>17349075.0</td>\n",
              "      <td>1.215</td>\n",
              "    </tr>\n",
              "  </tbody>\n",
              "</table>\n",
              "</div>"
            ],
            "text/plain": [
              "                       GDP    HDI\n",
              "Canada           1786387.0  1.213\n",
              "France           2834687.0  1.188\n",
              "Germany          3875437.0  1.216\n",
              "Italy            2168744.0  1.173\n",
              "Japan            4603367.0  1.191\n",
              "United Kingdom   2981039.0  1.207\n",
              "United States   17349075.0  1.215"
            ]
          },
          "metadata": {
            "tags": []
          },
          "execution_count": 91
        }
      ]
    },
    {
      "cell_type": "markdown",
      "metadata": {
        "id": "oZ34L-wnenR1"
      },
      "source": [
        "##**Operations**"
      ]
    },
    {
      "cell_type": "code",
      "metadata": {
        "colab": {
          "base_uri": "https://localhost:8080/",
          "height": 254
        },
        "id": "OLVP50K_erfO",
        "outputId": "86b02de4-9f6a-4c38-88dc-2023e7e49bc9"
      },
      "source": [
        "df[['Population', 'GDP']]"
      ],
      "execution_count": 92,
      "outputs": [
        {
          "output_type": "execute_result",
          "data": {
            "text/html": [
              "<div>\n",
              "<style scoped>\n",
              "    .dataframe tbody tr th:only-of-type {\n",
              "        vertical-align: middle;\n",
              "    }\n",
              "\n",
              "    .dataframe tbody tr th {\n",
              "        vertical-align: top;\n",
              "    }\n",
              "\n",
              "    .dataframe thead th {\n",
              "        text-align: right;\n",
              "    }\n",
              "</style>\n",
              "<table border=\"1\" class=\"dataframe\">\n",
              "  <thead>\n",
              "    <tr style=\"text-align: right;\">\n",
              "      <th></th>\n",
              "      <th>Population</th>\n",
              "      <th>GDP</th>\n",
              "    </tr>\n",
              "  </thead>\n",
              "  <tbody>\n",
              "    <tr>\n",
              "      <th>Canada</th>\n",
              "      <td>35.467</td>\n",
              "      <td>1785387</td>\n",
              "    </tr>\n",
              "    <tr>\n",
              "      <th>France</th>\n",
              "      <td>63.953</td>\n",
              "      <td>2833687</td>\n",
              "    </tr>\n",
              "    <tr>\n",
              "      <th>Germany</th>\n",
              "      <td>80.940</td>\n",
              "      <td>3874437</td>\n",
              "    </tr>\n",
              "    <tr>\n",
              "      <th>Italy</th>\n",
              "      <td>60.665</td>\n",
              "      <td>2167744</td>\n",
              "    </tr>\n",
              "    <tr>\n",
              "      <th>Japan</th>\n",
              "      <td>127.063</td>\n",
              "      <td>4602367</td>\n",
              "    </tr>\n",
              "    <tr>\n",
              "      <th>United Kingdom</th>\n",
              "      <td>64.511</td>\n",
              "      <td>2980039</td>\n",
              "    </tr>\n",
              "    <tr>\n",
              "      <th>United States</th>\n",
              "      <td>318.523</td>\n",
              "      <td>17348075</td>\n",
              "    </tr>\n",
              "  </tbody>\n",
              "</table>\n",
              "</div>"
            ],
            "text/plain": [
              "                Population       GDP\n",
              "Canada              35.467   1785387\n",
              "France              63.953   2833687\n",
              "Germany             80.940   3874437\n",
              "Italy               60.665   2167744\n",
              "Japan              127.063   4602367\n",
              "United Kingdom      64.511   2980039\n",
              "United States      318.523  17348075"
            ]
          },
          "metadata": {
            "tags": []
          },
          "execution_count": 92
        }
      ]
    },
    {
      "cell_type": "code",
      "metadata": {
        "colab": {
          "base_uri": "https://localhost:8080/",
          "height": 254
        },
        "id": "BquzEMhZeulJ",
        "outputId": "fd957168-3298-497b-8918-c30e5a4f7bf6"
      },
      "source": [
        "df[['Population', 'GDP']] / 100"
      ],
      "execution_count": 93,
      "outputs": [
        {
          "output_type": "execute_result",
          "data": {
            "text/html": [
              "<div>\n",
              "<style scoped>\n",
              "    .dataframe tbody tr th:only-of-type {\n",
              "        vertical-align: middle;\n",
              "    }\n",
              "\n",
              "    .dataframe tbody tr th {\n",
              "        vertical-align: top;\n",
              "    }\n",
              "\n",
              "    .dataframe thead th {\n",
              "        text-align: right;\n",
              "    }\n",
              "</style>\n",
              "<table border=\"1\" class=\"dataframe\">\n",
              "  <thead>\n",
              "    <tr style=\"text-align: right;\">\n",
              "      <th></th>\n",
              "      <th>Population</th>\n",
              "      <th>GDP</th>\n",
              "    </tr>\n",
              "  </thead>\n",
              "  <tbody>\n",
              "    <tr>\n",
              "      <th>Canada</th>\n",
              "      <td>0.35467</td>\n",
              "      <td>17853.87</td>\n",
              "    </tr>\n",
              "    <tr>\n",
              "      <th>France</th>\n",
              "      <td>0.63953</td>\n",
              "      <td>28336.87</td>\n",
              "    </tr>\n",
              "    <tr>\n",
              "      <th>Germany</th>\n",
              "      <td>0.80940</td>\n",
              "      <td>38744.37</td>\n",
              "    </tr>\n",
              "    <tr>\n",
              "      <th>Italy</th>\n",
              "      <td>0.60665</td>\n",
              "      <td>21677.44</td>\n",
              "    </tr>\n",
              "    <tr>\n",
              "      <th>Japan</th>\n",
              "      <td>1.27063</td>\n",
              "      <td>46023.67</td>\n",
              "    </tr>\n",
              "    <tr>\n",
              "      <th>United Kingdom</th>\n",
              "      <td>0.64511</td>\n",
              "      <td>29800.39</td>\n",
              "    </tr>\n",
              "    <tr>\n",
              "      <th>United States</th>\n",
              "      <td>3.18523</td>\n",
              "      <td>173480.75</td>\n",
              "    </tr>\n",
              "  </tbody>\n",
              "</table>\n",
              "</div>"
            ],
            "text/plain": [
              "                Population        GDP\n",
              "Canada             0.35467   17853.87\n",
              "France             0.63953   28336.87\n",
              "Germany            0.80940   38744.37\n",
              "Italy              0.60665   21677.44\n",
              "Japan              1.27063   46023.67\n",
              "United Kingdom     0.64511   29800.39\n",
              "United States      3.18523  173480.75"
            ]
          },
          "metadata": {
            "tags": []
          },
          "execution_count": 93
        }
      ]
    },
    {
      "cell_type": "markdown",
      "metadata": {
        "id": "Uau0JE54ePEN"
      },
      "source": [
        "**Operations with Series** work at a column level, broadcasting down the rows(which can be counter inclusive)"
      ]
    },
    {
      "cell_type": "code",
      "metadata": {
        "colab": {
          "base_uri": "https://localhost:8080/",
          "height": 254
        },
        "id": "4KJ5Cw9Eee_I",
        "outputId": "0cc688b8-406b-4559-bdb2-6dafe894d514"
      },
      "source": [
        "crisis = pd.Series([-1_000_000, -0.3], index=['GDP', 'HDI'])\r\n",
        "\r\n",
        "df[['GDP', 'HDI']] + crisis"
      ],
      "execution_count": 94,
      "outputs": [
        {
          "output_type": "execute_result",
          "data": {
            "text/html": [
              "<div>\n",
              "<style scoped>\n",
              "    .dataframe tbody tr th:only-of-type {\n",
              "        vertical-align: middle;\n",
              "    }\n",
              "\n",
              "    .dataframe tbody tr th {\n",
              "        vertical-align: top;\n",
              "    }\n",
              "\n",
              "    .dataframe thead th {\n",
              "        text-align: right;\n",
              "    }\n",
              "</style>\n",
              "<table border=\"1\" class=\"dataframe\">\n",
              "  <thead>\n",
              "    <tr style=\"text-align: right;\">\n",
              "      <th></th>\n",
              "      <th>GDP</th>\n",
              "      <th>HDI</th>\n",
              "    </tr>\n",
              "  </thead>\n",
              "  <tbody>\n",
              "    <tr>\n",
              "      <th>Canada</th>\n",
              "      <td>785387.0</td>\n",
              "      <td>0.613</td>\n",
              "    </tr>\n",
              "    <tr>\n",
              "      <th>France</th>\n",
              "      <td>1833687.0</td>\n",
              "      <td>0.588</td>\n",
              "    </tr>\n",
              "    <tr>\n",
              "      <th>Germany</th>\n",
              "      <td>2874437.0</td>\n",
              "      <td>0.616</td>\n",
              "    </tr>\n",
              "    <tr>\n",
              "      <th>Italy</th>\n",
              "      <td>1167744.0</td>\n",
              "      <td>0.573</td>\n",
              "    </tr>\n",
              "    <tr>\n",
              "      <th>Japan</th>\n",
              "      <td>3602367.0</td>\n",
              "      <td>0.591</td>\n",
              "    </tr>\n",
              "    <tr>\n",
              "      <th>United Kingdom</th>\n",
              "      <td>1980039.0</td>\n",
              "      <td>0.607</td>\n",
              "    </tr>\n",
              "    <tr>\n",
              "      <th>United States</th>\n",
              "      <td>16348075.0</td>\n",
              "      <td>0.615</td>\n",
              "    </tr>\n",
              "  </tbody>\n",
              "</table>\n",
              "</div>"
            ],
            "text/plain": [
              "                       GDP    HDI\n",
              "Canada            785387.0  0.613\n",
              "France           1833687.0  0.588\n",
              "Germany          2874437.0  0.616\n",
              "Italy            1167744.0  0.573\n",
              "Japan            3602367.0  0.591\n",
              "United Kingdom   1980039.0  0.607\n",
              "United States   16348075.0  0.615"
            ]
          },
          "metadata": {
            "tags": []
          },
          "execution_count": 94
        }
      ]
    },
    {
      "cell_type": "markdown",
      "metadata": {
        "id": "4vrh37nQfCqX"
      },
      "source": [
        "##**Modifying Data Frames**"
      ]
    },
    {
      "cell_type": "markdown",
      "metadata": {
        "id": "8rfYRsYXfRIy"
      },
      "source": [
        "It's simple and intutuive, You can add columns, or replace value for columns without issues."
      ]
    },
    {
      "cell_type": "markdown",
      "metadata": {
        "id": "RqjlCrL4fccT"
      },
      "source": [
        "**Adding a new Column**"
      ]
    },
    {
      "cell_type": "code",
      "metadata": {
        "id": "9w49jzZffI0U"
      },
      "source": [
        "langs = pd.Series(['French', 'German', 'Italian'],\r\n",
        "                  index=['France', 'German', 'Italy'],\r\n",
        "                  name=\"Language\")"
      ],
      "execution_count": 95,
      "outputs": []
    },
    {
      "cell_type": "code",
      "metadata": {
        "id": "a8KQH7hQfuM2"
      },
      "source": [
        "df['Language'] = langs"
      ],
      "execution_count": 96,
      "outputs": []
    },
    {
      "cell_type": "code",
      "metadata": {
        "colab": {
          "base_uri": "https://localhost:8080/",
          "height": 254
        },
        "id": "7UKi9kQ_fxGB",
        "outputId": "1da15bc8-a3eb-4fa3-f343-dd4804ec40c7"
      },
      "source": [
        "df"
      ],
      "execution_count": 97,
      "outputs": [
        {
          "output_type": "execute_result",
          "data": {
            "text/html": [
              "<div>\n",
              "<style scoped>\n",
              "    .dataframe tbody tr th:only-of-type {\n",
              "        vertical-align: middle;\n",
              "    }\n",
              "\n",
              "    .dataframe tbody tr th {\n",
              "        vertical-align: top;\n",
              "    }\n",
              "\n",
              "    .dataframe thead th {\n",
              "        text-align: right;\n",
              "    }\n",
              "</style>\n",
              "<table border=\"1\" class=\"dataframe\">\n",
              "  <thead>\n",
              "    <tr style=\"text-align: right;\">\n",
              "      <th></th>\n",
              "      <th>Population</th>\n",
              "      <th>GDP</th>\n",
              "      <th>Surface Area</th>\n",
              "      <th>HDI</th>\n",
              "      <th>Continent</th>\n",
              "      <th>Language</th>\n",
              "    </tr>\n",
              "  </thead>\n",
              "  <tbody>\n",
              "    <tr>\n",
              "      <th>Canada</th>\n",
              "      <td>35.467</td>\n",
              "      <td>1785387</td>\n",
              "      <td>9964670</td>\n",
              "      <td>0.913</td>\n",
              "      <td>America</td>\n",
              "      <td>NaN</td>\n",
              "    </tr>\n",
              "    <tr>\n",
              "      <th>France</th>\n",
              "      <td>63.953</td>\n",
              "      <td>2833687</td>\n",
              "      <td>640879</td>\n",
              "      <td>0.888</td>\n",
              "      <td>Europe</td>\n",
              "      <td>French</td>\n",
              "    </tr>\n",
              "    <tr>\n",
              "      <th>Germany</th>\n",
              "      <td>80.940</td>\n",
              "      <td>3874437</td>\n",
              "      <td>357114</td>\n",
              "      <td>0.916</td>\n",
              "      <td>Europe</td>\n",
              "      <td>NaN</td>\n",
              "    </tr>\n",
              "    <tr>\n",
              "      <th>Italy</th>\n",
              "      <td>60.665</td>\n",
              "      <td>2167744</td>\n",
              "      <td>301336</td>\n",
              "      <td>0.873</td>\n",
              "      <td>Europe</td>\n",
              "      <td>Italian</td>\n",
              "    </tr>\n",
              "    <tr>\n",
              "      <th>Japan</th>\n",
              "      <td>127.063</td>\n",
              "      <td>4602367</td>\n",
              "      <td>377930</td>\n",
              "      <td>0.891</td>\n",
              "      <td>Asia</td>\n",
              "      <td>NaN</td>\n",
              "    </tr>\n",
              "    <tr>\n",
              "      <th>United Kingdom</th>\n",
              "      <td>64.511</td>\n",
              "      <td>2980039</td>\n",
              "      <td>242495</td>\n",
              "      <td>0.907</td>\n",
              "      <td>Europe</td>\n",
              "      <td>NaN</td>\n",
              "    </tr>\n",
              "    <tr>\n",
              "      <th>United States</th>\n",
              "      <td>318.523</td>\n",
              "      <td>17348075</td>\n",
              "      <td>9525067</td>\n",
              "      <td>0.915</td>\n",
              "      <td>America</td>\n",
              "      <td>NaN</td>\n",
              "    </tr>\n",
              "  </tbody>\n",
              "</table>\n",
              "</div>"
            ],
            "text/plain": [
              "                Population       GDP  Surface Area    HDI Continent Language\n",
              "Canada              35.467   1785387       9964670  0.913   America      NaN\n",
              "France              63.953   2833687        640879  0.888    Europe   French\n",
              "Germany             80.940   3874437        357114  0.916    Europe      NaN\n",
              "Italy               60.665   2167744        301336  0.873    Europe  Italian\n",
              "Japan              127.063   4602367        377930  0.891      Asia      NaN\n",
              "United Kingdom      64.511   2980039        242495  0.907    Europe      NaN\n",
              "United States      318.523  17348075       9525067  0.915   America      NaN"
            ]
          },
          "metadata": {
            "tags": []
          },
          "execution_count": 97
        }
      ]
    },
    {
      "cell_type": "markdown",
      "metadata": {
        "id": "c5_BwLnhf67k"
      },
      "source": [
        "**Replacing values per column**"
      ]
    },
    {
      "cell_type": "code",
      "metadata": {
        "id": "N_QaCiKsf_Ea"
      },
      "source": [
        "df['Language'] = 'English'"
      ],
      "execution_count": 98,
      "outputs": []
    },
    {
      "cell_type": "code",
      "metadata": {
        "colab": {
          "base_uri": "https://localhost:8080/",
          "height": 254
        },
        "id": "RM5KoQLYgD4V",
        "outputId": "50089124-f464-4b54-c167-bf0f64745d6c"
      },
      "source": [
        "df"
      ],
      "execution_count": 99,
      "outputs": [
        {
          "output_type": "execute_result",
          "data": {
            "text/html": [
              "<div>\n",
              "<style scoped>\n",
              "    .dataframe tbody tr th:only-of-type {\n",
              "        vertical-align: middle;\n",
              "    }\n",
              "\n",
              "    .dataframe tbody tr th {\n",
              "        vertical-align: top;\n",
              "    }\n",
              "\n",
              "    .dataframe thead th {\n",
              "        text-align: right;\n",
              "    }\n",
              "</style>\n",
              "<table border=\"1\" class=\"dataframe\">\n",
              "  <thead>\n",
              "    <tr style=\"text-align: right;\">\n",
              "      <th></th>\n",
              "      <th>Population</th>\n",
              "      <th>GDP</th>\n",
              "      <th>Surface Area</th>\n",
              "      <th>HDI</th>\n",
              "      <th>Continent</th>\n",
              "      <th>Language</th>\n",
              "    </tr>\n",
              "  </thead>\n",
              "  <tbody>\n",
              "    <tr>\n",
              "      <th>Canada</th>\n",
              "      <td>35.467</td>\n",
              "      <td>1785387</td>\n",
              "      <td>9964670</td>\n",
              "      <td>0.913</td>\n",
              "      <td>America</td>\n",
              "      <td>English</td>\n",
              "    </tr>\n",
              "    <tr>\n",
              "      <th>France</th>\n",
              "      <td>63.953</td>\n",
              "      <td>2833687</td>\n",
              "      <td>640879</td>\n",
              "      <td>0.888</td>\n",
              "      <td>Europe</td>\n",
              "      <td>English</td>\n",
              "    </tr>\n",
              "    <tr>\n",
              "      <th>Germany</th>\n",
              "      <td>80.940</td>\n",
              "      <td>3874437</td>\n",
              "      <td>357114</td>\n",
              "      <td>0.916</td>\n",
              "      <td>Europe</td>\n",
              "      <td>English</td>\n",
              "    </tr>\n",
              "    <tr>\n",
              "      <th>Italy</th>\n",
              "      <td>60.665</td>\n",
              "      <td>2167744</td>\n",
              "      <td>301336</td>\n",
              "      <td>0.873</td>\n",
              "      <td>Europe</td>\n",
              "      <td>English</td>\n",
              "    </tr>\n",
              "    <tr>\n",
              "      <th>Japan</th>\n",
              "      <td>127.063</td>\n",
              "      <td>4602367</td>\n",
              "      <td>377930</td>\n",
              "      <td>0.891</td>\n",
              "      <td>Asia</td>\n",
              "      <td>English</td>\n",
              "    </tr>\n",
              "    <tr>\n",
              "      <th>United Kingdom</th>\n",
              "      <td>64.511</td>\n",
              "      <td>2980039</td>\n",
              "      <td>242495</td>\n",
              "      <td>0.907</td>\n",
              "      <td>Europe</td>\n",
              "      <td>English</td>\n",
              "    </tr>\n",
              "    <tr>\n",
              "      <th>United States</th>\n",
              "      <td>318.523</td>\n",
              "      <td>17348075</td>\n",
              "      <td>9525067</td>\n",
              "      <td>0.915</td>\n",
              "      <td>America</td>\n",
              "      <td>English</td>\n",
              "    </tr>\n",
              "  </tbody>\n",
              "</table>\n",
              "</div>"
            ],
            "text/plain": [
              "                Population       GDP  Surface Area    HDI Continent Language\n",
              "Canada              35.467   1785387       9964670  0.913   America  English\n",
              "France              63.953   2833687        640879  0.888    Europe  English\n",
              "Germany             80.940   3874437        357114  0.916    Europe  English\n",
              "Italy               60.665   2167744        301336  0.873    Europe  English\n",
              "Japan              127.063   4602367        377930  0.891      Asia  English\n",
              "United Kingdom      64.511   2980039        242495  0.907    Europe  English\n",
              "United States      318.523  17348075       9525067  0.915   America  English"
            ]
          },
          "metadata": {
            "tags": []
          },
          "execution_count": 99
        }
      ]
    },
    {
      "cell_type": "markdown",
      "metadata": {
        "id": "qPMTYr1SgGlK"
      },
      "source": [
        "**Renaming Column**"
      ]
    },
    {
      "cell_type": "code",
      "metadata": {
        "id": "Bz66rRf9gI4B"
      },
      "source": [
        ""
      ],
      "execution_count": null,
      "outputs": []
    }
  ]
}