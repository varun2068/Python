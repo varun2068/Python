{
  "nbformat": 4,
  "nbformat_minor": 0,
  "metadata": {
    "colab": {
      "name": "numpy.ipynb",
      "provenance": [],
      "collapsed_sections": [],
      "authorship_tag": "ABX9TyOzF8S/npc1bP+ll7VDwc2s",
      "include_colab_link": true
    },
    "kernelspec": {
      "name": "python3",
      "display_name": "Python 3"
    }
  },
  "cells": [
    {
      "cell_type": "markdown",
      "metadata": {
        "id": "view-in-github",
        "colab_type": "text"
      },
      "source": [
        "<a href=\"https://colab.research.google.com/github/varun2068/Python/blob/main/numpy.ipynb\" target=\"_parent\"><img src=\"https://colab.research.google.com/assets/colab-badge.svg\" alt=\"Open In Colab\"/></a>"
      ]
    },
    {
      "cell_type": "code",
      "metadata": {
        "colab": {
          "base_uri": "https://localhost:8080/"
        },
        "id": "0p0b47A0AS3U",
        "outputId": "3cd2eb32-e807-46f0-e82c-62add0de38c7"
      },
      "source": [
        "print(\"Hello World\")"
      ],
      "execution_count": null,
      "outputs": [
        {
          "output_type": "stream",
          "text": [
            "Hello World\n"
          ],
          "name": "stdout"
        }
      ]
    },
    {
      "cell_type": "code",
      "metadata": {
        "id": "W5YHfBsEAk44"
      },
      "source": [
        "import sys\r\n",
        "import numpy as np"
      ],
      "execution_count": null,
      "outputs": []
    },
    {
      "cell_type": "code",
      "metadata": {
        "colab": {
          "base_uri": "https://localhost:8080/"
        },
        "id": "cP8TTitlA1IV",
        "outputId": "41f88ec1-74df-43c3-84f6-964233904ebd"
      },
      "source": [
        "np.array([1, 2, 3, 4])"
      ],
      "execution_count": null,
      "outputs": [
        {
          "output_type": "execute_result",
          "data": {
            "text/plain": [
              "array([1, 2, 3, 4])"
            ]
          },
          "metadata": {
            "tags": []
          },
          "execution_count": 4
        }
      ]
    },
    {
      "cell_type": "code",
      "metadata": {
        "id": "W5dF-QVLA-vw"
      },
      "source": [
        "a = np.array([1, 2, 3, 5, 4])"
      ],
      "execution_count": null,
      "outputs": []
    },
    {
      "cell_type": "code",
      "metadata": {
        "colab": {
          "base_uri": "https://localhost:8080/"
        },
        "id": "21DnSdaDBFwL",
        "outputId": "e679b79e-5da6-4f77-c1a9-203bde47f0b7"
      },
      "source": [
        "print(a[0])"
      ],
      "execution_count": null,
      "outputs": [
        {
          "output_type": "stream",
          "text": [
            "1\n"
          ],
          "name": "stdout"
        }
      ]
    },
    {
      "cell_type": "markdown",
      "metadata": {
        "id": "X6FdYJHsBh4E"
      },
      "source": [
        "To Find the Dimension of the array"
      ]
    },
    {
      "cell_type": "code",
      "metadata": {
        "colab": {
          "base_uri": "https://localhost:8080/"
        },
        "id": "oyHZmnsgBKAt",
        "outputId": "040beec3-63b9-412a-c2aa-9a06003ebc83"
      },
      "source": [
        "a.ndim"
      ],
      "execution_count": null,
      "outputs": [
        {
          "output_type": "execute_result",
          "data": {
            "text/plain": [
              "1"
            ]
          },
          "metadata": {
            "tags": []
          },
          "execution_count": 10
        }
      ]
    },
    {
      "cell_type": "markdown",
      "metadata": {
        "id": "9YpMEk_pBd0o"
      },
      "source": [
        "To Find the size of array"
      ]
    },
    {
      "cell_type": "code",
      "metadata": {
        "colab": {
          "base_uri": "https://localhost:8080/"
        },
        "id": "se93D68rBKJb",
        "outputId": "86540c64-bb51-4462-8a06-32c0bafe5ecc"
      },
      "source": [
        "a.size"
      ],
      "execution_count": null,
      "outputs": [
        {
          "output_type": "execute_result",
          "data": {
            "text/plain": [
              "5"
            ]
          },
          "metadata": {
            "tags": []
          },
          "execution_count": 11
        }
      ]
    },
    {
      "cell_type": "code",
      "metadata": {
        "colab": {
          "base_uri": "https://localhost:8080/"
        },
        "id": "tmw1qZecBTvh",
        "outputId": "4ab5d62f-7bc2-4257-f76d-3590615794a7"
      },
      "source": [
        "a[1:3]"
      ],
      "execution_count": null,
      "outputs": [
        {
          "output_type": "execute_result",
          "data": {
            "text/plain": [
              "array([2, 3])"
            ]
          },
          "metadata": {
            "tags": []
          },
          "execution_count": 12
        }
      ]
    },
    {
      "cell_type": "code",
      "metadata": {
        "colab": {
          "base_uri": "https://localhost:8080/"
        },
        "id": "eZ8yezs0BU-R",
        "outputId": "d1464355-bd69-456b-a615-e0ef960a427f"
      },
      "source": [
        "a[[1, 2, -1]]"
      ],
      "execution_count": null,
      "outputs": [
        {
          "output_type": "execute_result",
          "data": {
            "text/plain": [
              "array([2, 3, 4])"
            ]
          },
          "metadata": {
            "tags": []
          },
          "execution_count": 14
        }
      ]
    },
    {
      "cell_type": "code",
      "metadata": {
        "colab": {
          "base_uri": "https://localhost:8080/"
        },
        "id": "0KljTPn5BVLV",
        "outputId": "be7bdec4-78cc-4eb1-c99a-49df6e48ec79"
      },
      "source": [
        "a.dtype"
      ],
      "execution_count": null,
      "outputs": [
        {
          "output_type": "execute_result",
          "data": {
            "text/plain": [
              "dtype('int64')"
            ]
          },
          "metadata": {
            "tags": []
          },
          "execution_count": 15
        }
      ]
    },
    {
      "cell_type": "code",
      "metadata": {
        "id": "QcjgzTINBVYJ"
      },
      "source": [
        "b = np.array([0.0, 1.0, 2.0, 3.0, 4.0])"
      ],
      "execution_count": null,
      "outputs": []
    },
    {
      "cell_type": "code",
      "metadata": {
        "colab": {
          "base_uri": "https://localhost:8080/"
        },
        "id": "XdYzvFp3BVjg",
        "outputId": "ef94125f-f640-4c8d-8e6c-27ef63e626fa"
      },
      "source": [
        "b.dtype"
      ],
      "execution_count": null,
      "outputs": [
        {
          "output_type": "execute_result",
          "data": {
            "text/plain": [
              "dtype('float64')"
            ]
          },
          "metadata": {
            "tags": []
          },
          "execution_count": 17
        }
      ]
    },
    {
      "cell_type": "markdown",
      "metadata": {
        "id": "IjRCLUBrDYOu"
      },
      "source": [
        "# **Dimensions And Shape**"
      ]
    },
    {
      "cell_type": "code",
      "metadata": {
        "id": "PNfYhjvOCSVT"
      },
      "source": [
        "A = np.array([[1, 2, 3],\r\n",
        "             [4, 5, 6]])"
      ],
      "execution_count": null,
      "outputs": []
    },
    {
      "cell_type": "code",
      "metadata": {
        "colab": {
          "base_uri": "https://localhost:8080/"
        },
        "id": "qGowsctJCSct",
        "outputId": "0365b813-50fc-4f8d-dd61-17c941abb3c8"
      },
      "source": [
        "A"
      ],
      "execution_count": null,
      "outputs": [
        {
          "output_type": "execute_result",
          "data": {
            "text/plain": [
              "array([[1, 2, 3],\n",
              "       [4, 5, 6]])"
            ]
          },
          "metadata": {
            "tags": []
          },
          "execution_count": 20
        }
      ]
    },
    {
      "cell_type": "markdown",
      "metadata": {
        "id": "8eyVB0NiD1o7"
      },
      "source": [
        "To Find the shape of Array"
      ]
    },
    {
      "cell_type": "code",
      "metadata": {
        "colab": {
          "base_uri": "https://localhost:8080/"
        },
        "id": "8Onj8fwwCSkA",
        "outputId": "93586e48-02a3-4f05-f001-fe2638bfcf5f"
      },
      "source": [
        "A.shape"
      ],
      "execution_count": null,
      "outputs": [
        {
          "output_type": "execute_result",
          "data": {
            "text/plain": [
              "(2, 3)"
            ]
          },
          "metadata": {
            "tags": []
          },
          "execution_count": 21
        }
      ]
    },
    {
      "cell_type": "markdown",
      "metadata": {
        "id": "AschuC6jD5_K"
      },
      "source": [
        "Dimension of Array"
      ]
    },
    {
      "cell_type": "code",
      "metadata": {
        "colab": {
          "base_uri": "https://localhost:8080/"
        },
        "id": "7vaFC9Q5CSq6",
        "outputId": "13b4d0dd-7def-4633-d83d-bbe315179572"
      },
      "source": [
        "A.ndim"
      ],
      "execution_count": null,
      "outputs": [
        {
          "output_type": "execute_result",
          "data": {
            "text/plain": [
              "2"
            ]
          },
          "metadata": {
            "tags": []
          },
          "execution_count": 22
        }
      ]
    },
    {
      "cell_type": "code",
      "metadata": {
        "colab": {
          "base_uri": "https://localhost:8080/"
        },
        "id": "B_ccQFmtCSym",
        "outputId": "abd01fb7-e696-408d-856d-62e1e1618e2f"
      },
      "source": [
        "A.size"
      ],
      "execution_count": null,
      "outputs": [
        {
          "output_type": "execute_result",
          "data": {
            "text/plain": [
              "6"
            ]
          },
          "metadata": {
            "tags": []
          },
          "execution_count": 23
        }
      ]
    },
    {
      "cell_type": "markdown",
      "metadata": {
        "id": "577soeXvEHrC"
      },
      "source": [
        "##**3D Array**"
      ]
    },
    {
      "cell_type": "code",
      "metadata": {
        "id": "mJ9zs96MEFbE"
      },
      "source": [
        "B = np.array([\r\n",
        "              [\r\n",
        "               [12, 23, 34],\r\n",
        "               [21, 32, 43],\r\n",
        "              ],\r\n",
        "              [\r\n",
        "               [45, 56, 67],\r\n",
        "               [76, 65, 54],\r\n",
        "              ]\r\n",
        "])"
      ],
      "execution_count": null,
      "outputs": []
    },
    {
      "cell_type": "code",
      "metadata": {
        "colab": {
          "base_uri": "https://localhost:8080/"
        },
        "id": "qRhhy4BFEFn5",
        "outputId": "b7fc0802-d6f9-4045-aa50-8c9f6ed7c9d4"
      },
      "source": [
        "B.size"
      ],
      "execution_count": null,
      "outputs": [
        {
          "output_type": "execute_result",
          "data": {
            "text/plain": [
              "12"
            ]
          },
          "metadata": {
            "tags": []
          },
          "execution_count": 26
        }
      ]
    },
    {
      "cell_type": "code",
      "metadata": {
        "colab": {
          "base_uri": "https://localhost:8080/"
        },
        "id": "NlcgcABNEFyG",
        "outputId": "82733c82-0f41-43ba-c004-af182e246e15"
      },
      "source": [
        "B.ndim"
      ],
      "execution_count": null,
      "outputs": [
        {
          "output_type": "execute_result",
          "data": {
            "text/plain": [
              "3"
            ]
          },
          "metadata": {
            "tags": []
          },
          "execution_count": 27
        }
      ]
    },
    {
      "cell_type": "code",
      "metadata": {
        "colab": {
          "base_uri": "https://localhost:8080/"
        },
        "id": "Y_lol4yaEF7f",
        "outputId": "76eedc97-8b5e-4c0e-b601-43c1e0739f0a"
      },
      "source": [
        "B.shape"
      ],
      "execution_count": null,
      "outputs": [
        {
          "output_type": "execute_result",
          "data": {
            "text/plain": [
              "(2, 2, 3)"
            ]
          },
          "metadata": {
            "tags": []
          },
          "execution_count": 28
        }
      ]
    },
    {
      "cell_type": "code",
      "metadata": {
        "colab": {
          "base_uri": "https://localhost:8080/"
        },
        "id": "Xd1VYBw9ExWI",
        "outputId": "c852dbec-20a4-4551-823c-c5de59ed4766"
      },
      "source": [
        "B.dtype"
      ],
      "execution_count": null,
      "outputs": [
        {
          "output_type": "execute_result",
          "data": {
            "text/plain": [
              "dtype('int64')"
            ]
          },
          "metadata": {
            "tags": []
          },
          "execution_count": 29
        }
      ]
    },
    {
      "cell_type": "markdown",
      "metadata": {
        "id": "fx4yiGUQE-M9"
      },
      "source": [
        "#**Indexing And Slicing Of Matrices**"
      ]
    },
    {
      "cell_type": "code",
      "metadata": {
        "id": "FwUMFZSXE082"
      },
      "source": [
        "#Square Matrix\r\n",
        "A = np.array([[1, 2, 3,],\r\n",
        "             [4, 5, 6],\r\n",
        "             [7, 8, 9]])"
      ],
      "execution_count": null,
      "outputs": []
    },
    {
      "cell_type": "code",
      "metadata": {
        "colab": {
          "base_uri": "https://localhost:8080/"
        },
        "id": "S416D1MzE1G4",
        "outputId": "bb757654-3d21-4044-d296-117690c32c48"
      },
      "source": [
        "A\r\n"
      ],
      "execution_count": null,
      "outputs": [
        {
          "output_type": "execute_result",
          "data": {
            "text/plain": [
              "array([[1, 2, 3],\n",
              "       [4, 5, 6],\n",
              "       [7, 8, 9]])"
            ]
          },
          "metadata": {
            "tags": []
          },
          "execution_count": 31
        }
      ]
    },
    {
      "cell_type": "code",
      "metadata": {
        "colab": {
          "base_uri": "https://localhost:8080/"
        },
        "id": "fO1c7jlUExnX",
        "outputId": "a515e00b-ec19-44d0-82ef-82af88b1b443"
      },
      "source": [
        "A[1]"
      ],
      "execution_count": null,
      "outputs": [
        {
          "output_type": "execute_result",
          "data": {
            "text/plain": [
              "array([4, 5, 6])"
            ]
          },
          "metadata": {
            "tags": []
          },
          "execution_count": 32
        }
      ]
    },
    {
      "cell_type": "code",
      "metadata": {
        "colab": {
          "base_uri": "https://localhost:8080/"
        },
        "id": "QphOHnoKEx1t",
        "outputId": "e7f58ccd-040c-486c-f52c-f28f4f4f318f"
      },
      "source": [
        "A[2]"
      ],
      "execution_count": null,
      "outputs": [
        {
          "output_type": "execute_result",
          "data": {
            "text/plain": [
              "array([7, 8, 9])"
            ]
          },
          "metadata": {
            "tags": []
          },
          "execution_count": 33
        }
      ]
    },
    {
      "cell_type": "code",
      "metadata": {
        "colab": {
          "base_uri": "https://localhost:8080/"
        },
        "id": "vokMCEwVFasR",
        "outputId": "3de2930a-8dc8-4424-fb9e-33a0f85463b4"
      },
      "source": [
        "A[0]"
      ],
      "execution_count": null,
      "outputs": [
        {
          "output_type": "execute_result",
          "data": {
            "text/plain": [
              "array([1, 2, 3])"
            ]
          },
          "metadata": {
            "tags": []
          },
          "execution_count": 34
        }
      ]
    },
    {
      "cell_type": "code",
      "metadata": {
        "colab": {
          "base_uri": "https://localhost:8080/"
        },
        "id": "rf8_0FD8Fbu1",
        "outputId": "5f4bb5e3-3eb4-4477-bfa0-a60b5dbb5321"
      },
      "source": [
        "A[1,2]"
      ],
      "execution_count": null,
      "outputs": [
        {
          "output_type": "execute_result",
          "data": {
            "text/plain": [
              "6"
            ]
          },
          "metadata": {
            "tags": []
          },
          "execution_count": 35
        }
      ]
    },
    {
      "cell_type": "code",
      "metadata": {
        "colab": {
          "base_uri": "https://localhost:8080/"
        },
        "id": "R08qn6qwFb6u",
        "outputId": "b264465d-6046-44da-a2b7-b40f83e77ea4"
      },
      "source": [
        "A[1][2]"
      ],
      "execution_count": null,
      "outputs": [
        {
          "output_type": "execute_result",
          "data": {
            "text/plain": [
              "6"
            ]
          },
          "metadata": {
            "tags": []
          },
          "execution_count": 36
        }
      ]
    },
    {
      "cell_type": "code",
      "metadata": {
        "id": "xHtqPmbOFcEW"
      },
      "source": [
        "A[1] = np.array([10, 10, 10])"
      ],
      "execution_count": null,
      "outputs": []
    },
    {
      "cell_type": "code",
      "metadata": {
        "colab": {
          "base_uri": "https://localhost:8080/"
        },
        "id": "Oichrc-tFtAO",
        "outputId": "9899f7da-5e7a-4f16-9903-488009c98ee1"
      },
      "source": [
        "A[1]"
      ],
      "execution_count": null,
      "outputs": [
        {
          "output_type": "execute_result",
          "data": {
            "text/plain": [
              "array([10, 10, 10])"
            ]
          },
          "metadata": {
            "tags": []
          },
          "execution_count": 38
        }
      ]
    },
    {
      "cell_type": "code",
      "metadata": {
        "colab": {
          "base_uri": "https://localhost:8080/"
        },
        "id": "TS3fomBLFxW-",
        "outputId": "c8f73e4b-92ab-4eef-86c6-eca9d35653c4"
      },
      "source": [
        "A"
      ],
      "execution_count": null,
      "outputs": [
        {
          "output_type": "execute_result",
          "data": {
            "text/plain": [
              "array([[ 1,  2,  3],\n",
              "       [10, 10, 10],\n",
              "       [ 7,  8,  9]])"
            ]
          },
          "metadata": {
            "tags": []
          },
          "execution_count": 39
        }
      ]
    },
    {
      "cell_type": "code",
      "metadata": {
        "id": "gaOR_ZghF2eD"
      },
      "source": [
        "A[2] = 99"
      ],
      "execution_count": null,
      "outputs": []
    },
    {
      "cell_type": "code",
      "metadata": {
        "colab": {
          "base_uri": "https://localhost:8080/"
        },
        "id": "vBQvA6ZSF6Iw",
        "outputId": "3c584273-1146-4c98-bcba-7a93b9f318ce"
      },
      "source": [
        "A[2]"
      ],
      "execution_count": null,
      "outputs": [
        {
          "output_type": "execute_result",
          "data": {
            "text/plain": [
              "array([99, 99, 99])"
            ]
          },
          "metadata": {
            "tags": []
          },
          "execution_count": 42
        }
      ]
    },
    {
      "cell_type": "code",
      "metadata": {
        "colab": {
          "base_uri": "https://localhost:8080/"
        },
        "id": "IGL-oT-iGI_Y",
        "outputId": "24b77080-8ebd-4035-b7d5-3032a8b76e8c"
      },
      "source": [
        "A = np.array([\r\n",
        "    ['a', 'b', 'c'],\r\n",
        "    ['d', 'e', 'f'],\r\n",
        "    ['g', 'h', 'i']\r\n",
        "])\r\n",
        "\r\n",
        "print(A[:, :2])"
      ],
      "execution_count": null,
      "outputs": [
        {
          "output_type": "stream",
          "text": [
            "[['a' 'b']\n",
            " ['d' 'e']\n",
            " ['g' 'h']]\n"
          ],
          "name": "stdout"
        }
      ]
    },
    {
      "cell_type": "code",
      "metadata": {
        "colab": {
          "base_uri": "https://localhost:8080/"
        },
        "id": "9aEnqRbtF8Fw",
        "outputId": "079056de-1e61-4ee0-e92a-9551c1e32c39"
      },
      "source": [
        "A"
      ],
      "execution_count": null,
      "outputs": [
        {
          "output_type": "execute_result",
          "data": {
            "text/plain": [
              "array([[ 1,  2,  3],\n",
              "       [10, 10, 10],\n",
              "       [99, 99, 99]])"
            ]
          },
          "metadata": {
            "tags": []
          },
          "execution_count": 43
        }
      ]
    },
    {
      "cell_type": "markdown",
      "metadata": {
        "id": "Fcqn70H1GKqy"
      },
      "source": [
        "#**Summary Statistics**"
      ]
    },
    {
      "cell_type": "code",
      "metadata": {
        "id": "BKNn3JpMGS0d"
      },
      "source": [
        "A = np.array([\r\n",
        "              [1, 2, 3],\r\n",
        "              [4, 5, 6],\r\n",
        "              [7, 8, 9]\r\n",
        "])"
      ],
      "execution_count": null,
      "outputs": []
    },
    {
      "cell_type": "code",
      "metadata": {
        "colab": {
          "base_uri": "https://localhost:8080/"
        },
        "id": "23fG4klaGTSm",
        "outputId": "79daa193-ffd3-437a-ef80-2a5822fccb9f"
      },
      "source": [
        "A.sum()"
      ],
      "execution_count": null,
      "outputs": [
        {
          "output_type": "execute_result",
          "data": {
            "text/plain": [
              "45"
            ]
          },
          "metadata": {
            "tags": []
          },
          "execution_count": 45
        }
      ]
    },
    {
      "cell_type": "code",
      "metadata": {
        "colab": {
          "base_uri": "https://localhost:8080/"
        },
        "id": "vzYcAHLgGTc8",
        "outputId": "b449bf25-6392-4947-dedf-e19910229245"
      },
      "source": [
        "A.mean()"
      ],
      "execution_count": null,
      "outputs": [
        {
          "output_type": "execute_result",
          "data": {
            "text/plain": [
              "5.0"
            ]
          },
          "metadata": {
            "tags": []
          },
          "execution_count": 46
        }
      ]
    },
    {
      "cell_type": "code",
      "metadata": {
        "colab": {
          "base_uri": "https://localhost:8080/"
        },
        "id": "rXIwhN7DGTnC",
        "outputId": "d15437d1-e349-4343-b5a3-962fe06571f6"
      },
      "source": [
        "#Variance\r\n",
        "A.var()"
      ],
      "execution_count": null,
      "outputs": [
        {
          "output_type": "execute_result",
          "data": {
            "text/plain": [
              "6.666666666666667"
            ]
          },
          "metadata": {
            "tags": []
          },
          "execution_count": 47
        }
      ]
    },
    {
      "cell_type": "code",
      "metadata": {
        "colab": {
          "base_uri": "https://localhost:8080/"
        },
        "id": "1obOuq1yGTwX",
        "outputId": "e7b517f3-9aad-49f4-a5b0-fc8375d2def0"
      },
      "source": [
        "#standard deviation\r\n",
        "A.std()"
      ],
      "execution_count": null,
      "outputs": [
        {
          "output_type": "execute_result",
          "data": {
            "text/plain": [
              "2.581988897471611"
            ]
          },
          "metadata": {
            "tags": []
          },
          "execution_count": 48
        }
      ]
    },
    {
      "cell_type": "code",
      "metadata": {
        "colab": {
          "base_uri": "https://localhost:8080/"
        },
        "id": "U4LGEsGUGT5e",
        "outputId": "2b6a21c4-1211-440f-9e77-38a766e42fc9"
      },
      "source": [
        "# Sum of first Column\r\n",
        "A.sum(axis=0)"
      ],
      "execution_count": null,
      "outputs": [
        {
          "output_type": "execute_result",
          "data": {
            "text/plain": [
              "array([12, 15, 18])"
            ]
          },
          "metadata": {
            "tags": []
          },
          "execution_count": 49
        }
      ]
    },
    {
      "cell_type": "code",
      "metadata": {
        "colab": {
          "base_uri": "https://localhost:8080/"
        },
        "id": "7WvnA6jyGUC1",
        "outputId": "1b1fe55b-7d4a-46bb-858e-1201adfa264b"
      },
      "source": [
        "A.sum(axis=1)"
      ],
      "execution_count": null,
      "outputs": [
        {
          "output_type": "execute_result",
          "data": {
            "text/plain": [
              "array([ 6, 15, 24])"
            ]
          },
          "metadata": {
            "tags": []
          },
          "execution_count": 50
        }
      ]
    },
    {
      "cell_type": "markdown",
      "metadata": {
        "id": "Glbyn9-HHMZZ"
      },
      "source": [
        "#**Broadcasting And Vectorized operations**"
      ]
    },
    {
      "cell_type": "code",
      "metadata": {
        "id": "ccq8VGTYGUL_"
      },
      "source": [
        "a = np.arange(4)"
      ],
      "execution_count": null,
      "outputs": []
    },
    {
      "cell_type": "code",
      "metadata": {
        "colab": {
          "base_uri": "https://localhost:8080/"
        },
        "id": "W_G0aZ4aHdKi",
        "outputId": "e0fac0e5-3ebc-4d4d-9812-b9e8df1ebc69"
      },
      "source": [
        "a"
      ],
      "execution_count": null,
      "outputs": [
        {
          "output_type": "execute_result",
          "data": {
            "text/plain": [
              "array([0, 1, 2, 3])"
            ]
          },
          "metadata": {
            "tags": []
          },
          "execution_count": 66
        }
      ]
    },
    {
      "cell_type": "code",
      "metadata": {
        "colab": {
          "base_uri": "https://localhost:8080/"
        },
        "id": "outkD-JbHe62",
        "outputId": "72959da9-2ccc-48b7-eead-65c6b2b12328"
      },
      "source": [
        "a + 10"
      ],
      "execution_count": null,
      "outputs": [
        {
          "output_type": "execute_result",
          "data": {
            "text/plain": [
              "array([10, 11, 12, 13])"
            ]
          },
          "metadata": {
            "tags": []
          },
          "execution_count": 68
        }
      ]
    },
    {
      "cell_type": "code",
      "metadata": {
        "colab": {
          "base_uri": "https://localhost:8080/"
        },
        "id": "x5kXj8JAHfFe",
        "outputId": "366d2be9-e904-4b76-c3e1-1b2b609c7ef7"
      },
      "source": [
        "a * 10\r\n"
      ],
      "execution_count": null,
      "outputs": [
        {
          "output_type": "execute_result",
          "data": {
            "text/plain": [
              "array([ 0, 10, 20, 30])"
            ]
          },
          "metadata": {
            "tags": []
          },
          "execution_count": 69
        }
      ]
    },
    {
      "cell_type": "code",
      "metadata": {
        "colab": {
          "base_uri": "https://localhost:8080/"
        },
        "id": "U2L3gjRHHfNw",
        "outputId": "57219f33-8caf-4bac-a842-f0725af72ee5"
      },
      "source": [
        "a == 100"
      ],
      "execution_count": null,
      "outputs": [
        {
          "output_type": "execute_result",
          "data": {
            "text/plain": [
              "array([False, False, False, False])"
            ]
          },
          "metadata": {
            "tags": []
          },
          "execution_count": 70
        }
      ]
    },
    {
      "cell_type": "code",
      "metadata": {
        "colab": {
          "base_uri": "https://localhost:8080/"
        },
        "id": "cCSHHa66HfVq",
        "outputId": "e8d36ca3-8054-413e-f84c-1dc6cda97116"
      },
      "source": [
        "a"
      ],
      "execution_count": null,
      "outputs": [
        {
          "output_type": "execute_result",
          "data": {
            "text/plain": [
              "array([0, 1, 2, 3])"
            ]
          },
          "metadata": {
            "tags": []
          },
          "execution_count": 72
        }
      ]
    },
    {
      "cell_type": "code",
      "metadata": {
        "id": "DvVxnnARHfc4"
      },
      "source": [
        "l = [0, 1, 2, 3, 4]"
      ],
      "execution_count": null,
      "outputs": []
    },
    {
      "cell_type": "code",
      "metadata": {
        "colab": {
          "base_uri": "https://localhost:8080/"
        },
        "id": "8YuoGj1NHfke",
        "outputId": "54040068-8332-4f7a-eb66-42efbb115f26"
      },
      "source": [
        "[i * 10 for i in l]"
      ],
      "execution_count": null,
      "outputs": [
        {
          "output_type": "execute_result",
          "data": {
            "text/plain": [
              "[0, 10, 20, 30, 40]"
            ]
          },
          "metadata": {
            "tags": []
          },
          "execution_count": 75
        }
      ]
    },
    {
      "cell_type": "code",
      "metadata": {
        "id": "5VN0yoGWHfrz"
      },
      "source": [
        "a = np.arange(4)"
      ],
      "execution_count": null,
      "outputs": []
    },
    {
      "cell_type": "code",
      "metadata": {
        "colab": {
          "base_uri": "https://localhost:8080/"
        },
        "id": "APii_6ZwIi0H",
        "outputId": "21d9a9ed-a4ea-4041-d286-0e74c95596bd"
      },
      "source": [
        "a"
      ],
      "execution_count": null,
      "outputs": [
        {
          "output_type": "execute_result",
          "data": {
            "text/plain": [
              "array([0, 1, 2, 3])"
            ]
          },
          "metadata": {
            "tags": []
          },
          "execution_count": 77
        }
      ]
    },
    {
      "cell_type": "code",
      "metadata": {
        "id": "IQo4rvI4Ii7x"
      },
      "source": [
        "n = np.array([10, 10, 10, 10])"
      ],
      "execution_count": null,
      "outputs": []
    },
    {
      "cell_type": "code",
      "metadata": {
        "colab": {
          "base_uri": "https://localhost:8080/"
        },
        "id": "R58v6QBXIjCx",
        "outputId": "8d4443c5-4c10-4e74-e700-299e5e645855"
      },
      "source": [
        "a + n"
      ],
      "execution_count": null,
      "outputs": [
        {
          "output_type": "execute_result",
          "data": {
            "text/plain": [
              "array([10, 11, 12, 13])"
            ]
          },
          "metadata": {
            "tags": []
          },
          "execution_count": 80
        }
      ]
    },
    {
      "cell_type": "code",
      "metadata": {
        "colab": {
          "base_uri": "https://localhost:8080/"
        },
        "id": "xpCCbGDdIveU",
        "outputId": "15e4372e-6b66-44e4-a728-3cfd1bf776c3"
      },
      "source": [
        "a * n"
      ],
      "execution_count": null,
      "outputs": [
        {
          "output_type": "execute_result",
          "data": {
            "text/plain": [
              "array([ 0, 10, 20, 30])"
            ]
          },
          "metadata": {
            "tags": []
          },
          "execution_count": 81
        }
      ]
    },
    {
      "cell_type": "markdown",
      "metadata": {
        "id": "tbU6ddOMI83E"
      },
      "source": [
        "#**Boolean Arrays**"
      ]
    },
    {
      "cell_type": "code",
      "metadata": {
        "id": "Cl0vRd6rI69X"
      },
      "source": [
        "a = np.arange(4)"
      ],
      "execution_count": null,
      "outputs": []
    },
    {
      "cell_type": "code",
      "metadata": {
        "colab": {
          "base_uri": "https://localhost:8080/"
        },
        "id": "5jT5ZXKrI7Ll",
        "outputId": "14816154-60d7-4fd4-cdd9-ab0ca33155fe"
      },
      "source": [
        "a"
      ],
      "execution_count": null,
      "outputs": [
        {
          "output_type": "execute_result",
          "data": {
            "text/plain": [
              "array([0, 1, 2, 3])"
            ]
          },
          "metadata": {
            "tags": []
          },
          "execution_count": 83
        }
      ]
    },
    {
      "cell_type": "code",
      "metadata": {
        "colab": {
          "base_uri": "https://localhost:8080/"
        },
        "id": "e86pvhqVI7Qg",
        "outputId": "762272f6-21c6-4bbe-8053-e2afeab979ed"
      },
      "source": [
        "a[[0, -1]]"
      ],
      "execution_count": null,
      "outputs": [
        {
          "output_type": "execute_result",
          "data": {
            "text/plain": [
              "array([0, 3])"
            ]
          },
          "metadata": {
            "tags": []
          },
          "execution_count": 84
        }
      ]
    },
    {
      "cell_type": "code",
      "metadata": {
        "colab": {
          "base_uri": "https://localhost:8080/"
        },
        "id": "QlEjNy74I7ST",
        "outputId": "5510882b-610c-4d14-ed8e-b77175456d5b"
      },
      "source": [
        "a[[True, False, False, True]]"
      ],
      "execution_count": null,
      "outputs": [
        {
          "output_type": "execute_result",
          "data": {
            "text/plain": [
              "array([0, 3])"
            ]
          },
          "metadata": {
            "tags": []
          },
          "execution_count": 85
        }
      ]
    },
    {
      "cell_type": "code",
      "metadata": {
        "colab": {
          "base_uri": "https://localhost:8080/"
        },
        "id": "TQ_Gw1zCI7Vf",
        "outputId": "30f65ac3-251d-49fd-b900-b124f26c3b5e"
      },
      "source": [
        "a == 2"
      ],
      "execution_count": null,
      "outputs": [
        {
          "output_type": "execute_result",
          "data": {
            "text/plain": [
              "array([False, False,  True, False])"
            ]
          },
          "metadata": {
            "tags": []
          },
          "execution_count": 86
        }
      ]
    },
    {
      "cell_type": "code",
      "metadata": {
        "colab": {
          "base_uri": "https://localhost:8080/"
        },
        "id": "kOm1lFnVI7XP",
        "outputId": "045f3875-d4bb-4d9d-cea4-eb5faba2c282"
      },
      "source": [
        "a == 1"
      ],
      "execution_count": null,
      "outputs": [
        {
          "output_type": "execute_result",
          "data": {
            "text/plain": [
              "array([False,  True, False, False])"
            ]
          },
          "metadata": {
            "tags": []
          },
          "execution_count": 87
        }
      ]
    },
    {
      "cell_type": "code",
      "metadata": {
        "colab": {
          "base_uri": "https://localhost:8080/"
        },
        "id": "94VyzE3KI7bf",
        "outputId": "acebfeae-df96-4f13-ffd7-42d291a16294"
      },
      "source": [
        "a == 3"
      ],
      "execution_count": null,
      "outputs": [
        {
          "output_type": "execute_result",
          "data": {
            "text/plain": [
              "array([False, False, False,  True])"
            ]
          },
          "metadata": {
            "tags": []
          },
          "execution_count": 88
        }
      ]
    },
    {
      "cell_type": "markdown",
      "metadata": {
        "id": "R99AlUl4JsTP"
      },
      "source": [
        "As in above the number 3 is present at last position that's why it show True else all False"
      ]
    },
    {
      "cell_type": "code",
      "metadata": {
        "colab": {
          "base_uri": "https://localhost:8080/"
        },
        "id": "ih1horyvJngb",
        "outputId": "e43e91d7-ff48-407b-d3ec-4c5950b66f2c"
      },
      "source": [
        "a == 4"
      ],
      "execution_count": null,
      "outputs": [
        {
          "output_type": "execute_result",
          "data": {
            "text/plain": [
              "array([False, False, False, False])"
            ]
          },
          "metadata": {
            "tags": []
          },
          "execution_count": 89
        }
      ]
    },
    {
      "cell_type": "markdown",
      "metadata": {
        "id": "OI5qCIWRJ4N8"
      },
      "source": [
        "In above code 4 is not present in arrays that's why the ouput is False all element."
      ]
    },
    {
      "cell_type": "markdown",
      "metadata": {
        "id": "27cy4sieI8N9"
      },
      "source": [
        ""
      ]
    },
    {
      "cell_type": "code",
      "metadata": {
        "colab": {
          "base_uri": "https://localhost:8080/"
        },
        "id": "28cfZgLMKBnA",
        "outputId": "adda0bd3-45b7-4257-de38-a608e09435ec"
      },
      "source": [
        "a[a >= 2]"
      ],
      "execution_count": null,
      "outputs": [
        {
          "output_type": "execute_result",
          "data": {
            "text/plain": [
              "array([2, 3])"
            ]
          },
          "metadata": {
            "tags": []
          },
          "execution_count": 90
        }
      ]
    },
    {
      "cell_type": "code",
      "metadata": {
        "colab": {
          "base_uri": "https://localhost:8080/"
        },
        "id": "b9GvhqwCKQRg",
        "outputId": "08910f0e-7082-4bf8-d8ce-d0684918126d"
      },
      "source": [
        "a.mean()"
      ],
      "execution_count": null,
      "outputs": [
        {
          "output_type": "execute_result",
          "data": {
            "text/plain": [
              "1.5"
            ]
          },
          "metadata": {
            "tags": []
          },
          "execution_count": 91
        }
      ]
    },
    {
      "cell_type": "code",
      "metadata": {
        "colab": {
          "base_uri": "https://localhost:8080/"
        },
        "id": "4Y4kJDezKQcZ",
        "outputId": "8e357a78-899a-4e63-ae69-e293a52094b1"
      },
      "source": [
        "a[a> a.mean()]"
      ],
      "execution_count": null,
      "outputs": [
        {
          "output_type": "execute_result",
          "data": {
            "text/plain": [
              "array([2, 3])"
            ]
          },
          "metadata": {
            "tags": []
          },
          "execution_count": 92
        }
      ]
    },
    {
      "cell_type": "code",
      "metadata": {
        "colab": {
          "base_uri": "https://localhost:8080/"
        },
        "id": "fpSnZZ4RKQlu",
        "outputId": "82c4177b-f981-4828-97b9-394d207d2b0e"
      },
      "source": [
        "a[~(a> a.mean())]"
      ],
      "execution_count": null,
      "outputs": [
        {
          "output_type": "execute_result",
          "data": {
            "text/plain": [
              "array([0, 1])"
            ]
          },
          "metadata": {
            "tags": []
          },
          "execution_count": 95
        }
      ]
    },
    {
      "cell_type": "code",
      "metadata": {
        "colab": {
          "base_uri": "https://localhost:8080/"
        },
        "id": "opkKN4LmKztW",
        "outputId": "39e60744-9e48-41b0-f1c0-c9b1c4584ae7"
      },
      "source": [
        "a[(a == 0) | (a == 1)]"
      ],
      "execution_count": null,
      "outputs": [
        {
          "output_type": "execute_result",
          "data": {
            "text/plain": [
              "array([0, 1])"
            ]
          },
          "metadata": {
            "tags": []
          },
          "execution_count": 96
        }
      ]
    },
    {
      "cell_type": "code",
      "metadata": {
        "colab": {
          "base_uri": "https://localhost:8080/"
        },
        "id": "XaZScPhKKz5M",
        "outputId": "683bfb4a-5a68-4dfd-b565-efb9fa86fa8a"
      },
      "source": [
        "a[(a == 0)& (a == 1)]"
      ],
      "execution_count": null,
      "outputs": [
        {
          "output_type": "execute_result",
          "data": {
            "text/plain": [
              "array([], dtype=int64)"
            ]
          },
          "metadata": {
            "tags": []
          },
          "execution_count": 97
        }
      ]
    },
    {
      "cell_type": "code",
      "metadata": {
        "colab": {
          "base_uri": "https://localhost:8080/"
        },
        "id": "s30e2ouVLAZK",
        "outputId": "26c6bcda-c960-4324-8d28-6bdc4f35c695"
      },
      "source": [
        "a[(a == 2) & (a % 2 == 0)]"
      ],
      "execution_count": null,
      "outputs": [
        {
          "output_type": "execute_result",
          "data": {
            "text/plain": [
              "array([2])"
            ]
          },
          "metadata": {
            "tags": []
          },
          "execution_count": 98
        }
      ]
    },
    {
      "cell_type": "code",
      "metadata": {
        "id": "J7a6mpBkLAmo"
      },
      "source": [
        "A = np.random.randint(100, size=(3, 3))"
      ],
      "execution_count": null,
      "outputs": []
    },
    {
      "cell_type": "code",
      "metadata": {
        "colab": {
          "base_uri": "https://localhost:8080/"
        },
        "id": "3kRx2iFzLAvM",
        "outputId": "738e373d-9cf8-4975-80ce-7c97e4ea1940"
      },
      "source": [
        "A"
      ],
      "execution_count": null,
      "outputs": [
        {
          "output_type": "execute_result",
          "data": {
            "text/plain": [
              "array([[67, 32,  0],\n",
              "       [73,  8,  5],\n",
              "       [77, 15, 36]])"
            ]
          },
          "metadata": {
            "tags": []
          },
          "execution_count": 102
        }
      ]
    },
    {
      "cell_type": "code",
      "metadata": {
        "colab": {
          "base_uri": "https://localhost:8080/"
        },
        "id": "i7HNY936K0BD",
        "outputId": "44474e41-16aa-4010-cf08-da623b2dc2c4"
      },
      "source": [
        "A[np.array([\r\n",
        "           [True, False, True,],\r\n",
        "           [False, True, False],\r\n",
        "           [True, False, True]\r\n",
        "])]"
      ],
      "execution_count": null,
      "outputs": [
        {
          "output_type": "execute_result",
          "data": {
            "text/plain": [
              "array([67,  0,  8, 77, 36])"
            ]
          },
          "metadata": {
            "tags": []
          },
          "execution_count": 105
        }
      ]
    },
    {
      "cell_type": "code",
      "metadata": {
        "colab": {
          "base_uri": "https://localhost:8080/"
        },
        "id": "PCxyp84LLyiw",
        "outputId": "adfb1026-ffd6-4ffa-93a8-b89616c65bcc"
      },
      "source": [
        "A > 30"
      ],
      "execution_count": null,
      "outputs": [
        {
          "output_type": "execute_result",
          "data": {
            "text/plain": [
              "array([[ True,  True, False],\n",
              "       [ True, False, False],\n",
              "       [ True, False,  True]])"
            ]
          },
          "metadata": {
            "tags": []
          },
          "execution_count": 106
        }
      ]
    },
    {
      "cell_type": "markdown",
      "metadata": {
        "id": "0pmVLpaGEEZR"
      },
      "source": [
        "#**Linear Algebra**"
      ]
    },
    {
      "cell_type": "code",
      "metadata": {
        "id": "-xh4FeUNLyxL"
      },
      "source": [
        "A = np.array([[1, 2, 3,],\r\n",
        "              [2, 3, 4],\r\n",
        "              [3, 4, 5]\r\n",
        "])"
      ],
      "execution_count": null,
      "outputs": []
    },
    {
      "cell_type": "code",
      "metadata": {
        "id": "jWFAZWCiEdwP"
      },
      "source": [
        "B = np.array([[1, 2],\r\n",
        "              [2, 3],\r\n",
        "              [3, 4]\r\n",
        "])"
      ],
      "execution_count": null,
      "outputs": []
    },
    {
      "cell_type": "code",
      "metadata": {
        "id": "hA8_ZknvEd5g",
        "colab": {
          "base_uri": "https://localhost:8080/"
        },
        "outputId": "0b44040c-1fe7-46e7-c856-e2d2c199e8cd"
      },
      "source": [
        "A.dot(B)"
      ],
      "execution_count": null,
      "outputs": [
        {
          "output_type": "execute_result",
          "data": {
            "text/plain": [
              "array([[14, 20],\n",
              "       [20, 29],\n",
              "       [26, 38]])"
            ]
          },
          "metadata": {
            "tags": []
          },
          "execution_count": 5
        }
      ]
    },
    {
      "cell_type": "code",
      "metadata": {
        "id": "WuiOXpgVEeAf",
        "colab": {
          "base_uri": "https://localhost:8080/"
        },
        "outputId": "3e5fe3da-8c13-4350-87a6-763e9af7dc72"
      },
      "source": [
        "A @ B"
      ],
      "execution_count": null,
      "outputs": [
        {
          "output_type": "execute_result",
          "data": {
            "text/plain": [
              "array([[14, 20],\n",
              "       [20, 29],\n",
              "       [26, 38]])"
            ]
          },
          "metadata": {
            "tags": []
          },
          "execution_count": 6
        }
      ]
    },
    {
      "cell_type": "code",
      "metadata": {
        "id": "hPWvIKrHEeGZ",
        "colab": {
          "base_uri": "https://localhost:8080/"
        },
        "outputId": "1a4911aa-2bc3-4bde-da23-9ae97b54bfde"
      },
      "source": [
        "B.T"
      ],
      "execution_count": null,
      "outputs": [
        {
          "output_type": "execute_result",
          "data": {
            "text/plain": [
              "array([[1, 2, 3],\n",
              "       [2, 3, 4]])"
            ]
          },
          "metadata": {
            "tags": []
          },
          "execution_count": 7
        }
      ]
    },
    {
      "cell_type": "code",
      "metadata": {
        "id": "CHEPayr_EeMc",
        "colab": {
          "base_uri": "https://localhost:8080/"
        },
        "outputId": "bf2409af-4393-44ba-e2ac-001a40a9c3cf"
      },
      "source": [
        "A"
      ],
      "execution_count": null,
      "outputs": [
        {
          "output_type": "execute_result",
          "data": {
            "text/plain": [
              "array([[1, 2, 3],\n",
              "       [2, 3, 4],\n",
              "       [3, 4, 5]])"
            ]
          },
          "metadata": {
            "tags": []
          },
          "execution_count": 9
        }
      ]
    },
    {
      "cell_type": "code",
      "metadata": {
        "id": "UXQKVmLkEeSe",
        "colab": {
          "base_uri": "https://localhost:8080/"
        },
        "outputId": "21a40919-c35c-4e60-c724-48d989be6077"
      },
      "source": [
        "B.T @ A"
      ],
      "execution_count": null,
      "outputs": [
        {
          "output_type": "execute_result",
          "data": {
            "text/plain": [
              "array([[14, 20, 26],\n",
              "       [20, 29, 38]])"
            ]
          },
          "metadata": {
            "tags": []
          },
          "execution_count": 10
        }
      ]
    },
    {
      "cell_type": "markdown",
      "metadata": {
        "id": "n_Mi4fxxFNKP"
      },
      "source": [
        "#** Size of Object In Memory**"
      ]
    },
    {
      "cell_type": "code",
      "metadata": {
        "id": "RB1Q-lmPFQ8K",
        "colab": {
          "base_uri": "https://localhost:8080/"
        },
        "outputId": "60e06db4-72bf-4c4c-91a2-1ce783b90607"
      },
      "source": [
        "# An Integer in Python is > 24 bytes\r\n",
        "sys.getsizeof(1)"
      ],
      "execution_count": null,
      "outputs": [
        {
          "output_type": "execute_result",
          "data": {
            "text/plain": [
              "28"
            ]
          },
          "metadata": {
            "tags": []
          },
          "execution_count": 11
        }
      ]
    },
    {
      "cell_type": "code",
      "metadata": {
        "id": "fAza2r4UFdQj",
        "colab": {
          "base_uri": "https://localhost:8080/"
        },
        "outputId": "267888a4-af96-4508-ead1-bbbc5d820566"
      },
      "source": [
        "# Longs are even much larger\r\n",
        "sys.getsizeof(10**100)"
      ],
      "execution_count": null,
      "outputs": [
        {
          "output_type": "execute_result",
          "data": {
            "text/plain": [
              "72"
            ]
          },
          "metadata": {
            "tags": []
          },
          "execution_count": 12
        }
      ]
    },
    {
      "cell_type": "code",
      "metadata": {
        "id": "Beweufl9Fdba",
        "colab": {
          "base_uri": "https://localhost:8080/"
        },
        "outputId": "d36d57bd-5004-48a1-cc1d-8af84d2aba82"
      },
      "source": [
        "# Numpy size is much smaller\r\n",
        "np.dtype(int).itemsize"
      ],
      "execution_count": null,
      "outputs": [
        {
          "output_type": "execute_result",
          "data": {
            "text/plain": [
              "8"
            ]
          },
          "metadata": {
            "tags": []
          },
          "execution_count": 13
        }
      ]
    },
    {
      "cell_type": "code",
      "metadata": {
        "id": "ooBCBQhgFdp7",
        "colab": {
          "base_uri": "https://localhost:8080/"
        },
        "outputId": "b54b05d7-649f-4728-dce0-838b6b37c38e"
      },
      "source": [
        "np.dtype(float).itemsize"
      ],
      "execution_count": null,
      "outputs": [
        {
          "output_type": "execute_result",
          "data": {
            "text/plain": [
              "8"
            ]
          },
          "metadata": {
            "tags": []
          },
          "execution_count": 14
        }
      ]
    },
    {
      "cell_type": "code",
      "metadata": {
        "id": "Vhvi_4YYF1Fw",
        "colab": {
          "base_uri": "https://localhost:8080/"
        },
        "outputId": "2839f75f-fe39-4771-c08d-5fa2a6b60673"
      },
      "source": [
        "# Lists are even Larger\r\n",
        "sys.getsizeof([1])"
      ],
      "execution_count": null,
      "outputs": [
        {
          "output_type": "execute_result",
          "data": {
            "text/plain": [
              "80"
            ]
          },
          "metadata": {
            "tags": []
          },
          "execution_count": 16
        }
      ]
    },
    {
      "cell_type": "code",
      "metadata": {
        "id": "nKxG24bWGIZY",
        "colab": {
          "base_uri": "https://localhost:8080/"
        },
        "outputId": "224e8fcc-82f8-4e95-a6f9-5b21631588b0"
      },
      "source": [
        "# In Numpy\r\n",
        "np.array([1]).nbytes"
      ],
      "execution_count": null,
      "outputs": [
        {
          "output_type": "execute_result",
          "data": {
            "text/plain": [
              "8"
            ]
          },
          "metadata": {
            "tags": []
          },
          "execution_count": 17
        }
      ]
    },
    {
      "cell_type": "markdown",
      "metadata": {
        "id": "F6YO7ismGZft"
      },
      "source": [
        "###**Performance is also important**"
      ]
    },
    {
      "cell_type": "code",
      "metadata": {
        "id": "e-HWeTIjGYiv"
      },
      "source": [
        "l = list(range(1000))"
      ],
      "execution_count": null,
      "outputs": []
    },
    {
      "cell_type": "code",
      "metadata": {
        "id": "qqCcZprGGW3L"
      },
      "source": [
        "a = np.arange(1000)"
      ],
      "execution_count": null,
      "outputs": []
    },
    {
      "cell_type": "code",
      "metadata": {
        "id": "nv7dEh4DGW_m",
        "colab": {
          "base_uri": "https://localhost:8080/"
        },
        "outputId": "27381bb4-f02e-4edc-fa63-5bb57ff9a5e6"
      },
      "source": [
        "%time np.sum(a**2)"
      ],
      "execution_count": null,
      "outputs": [
        {
          "output_type": "stream",
          "text": [
            "CPU times: user 126 µs, sys: 12 µs, total: 138 µs\n",
            "Wall time: 431 µs\n"
          ],
          "name": "stdout"
        },
        {
          "output_type": "execute_result",
          "data": {
            "text/plain": [
              "332833500"
            ]
          },
          "metadata": {
            "tags": []
          },
          "execution_count": 20
        }
      ]
    },
    {
      "cell_type": "code",
      "metadata": {
        "id": "RU4gEj11Gx66",
        "colab": {
          "base_uri": "https://localhost:8080/"
        },
        "outputId": "f48b0905-cfab-4c17-abb5-b830c075d561"
      },
      "source": [
        "%time sum([x**2 for x in l])"
      ],
      "execution_count": null,
      "outputs": [
        {
          "output_type": "stream",
          "text": [
            "CPU times: user 479 µs, sys: 43 µs, total: 522 µs\n",
            "Wall time: 529 µs\n"
          ],
          "name": "stdout"
        },
        {
          "output_type": "execute_result",
          "data": {
            "text/plain": [
              "332833500"
            ]
          },
          "metadata": {
            "tags": []
          },
          "execution_count": 21
        }
      ]
    },
    {
      "cell_type": "markdown",
      "metadata": {
        "id": "S3rerCN-G9T0"
      },
      "source": [
        "#**Useful Numpy Functions**"
      ]
    },
    {
      "cell_type": "markdown",
      "metadata": {
        "id": "PACj8FLBHCw9"
      },
      "source": [
        "####*random*\r\n"
      ]
    },
    {
      "cell_type": "code",
      "metadata": {
        "id": "pqV1sXe8G6DU",
        "colab": {
          "base_uri": "https://localhost:8080/"
        },
        "outputId": "ec3f7ce2-1ffc-48f7-d20c-78576baa9a0d"
      },
      "source": [
        "np.random.random(size=2)"
      ],
      "execution_count": null,
      "outputs": [
        {
          "output_type": "execute_result",
          "data": {
            "text/plain": [
              "array([0.81663245, 0.84093393])"
            ]
          },
          "metadata": {
            "tags": []
          },
          "execution_count": 23
        }
      ]
    },
    {
      "cell_type": "code",
      "metadata": {
        "id": "JeAoEQ7UG6K6",
        "colab": {
          "base_uri": "https://localhost:8080/"
        },
        "outputId": "c5699267-f0b7-4d05-f769-d4e5072cdb8f"
      },
      "source": [
        "np.random.normal(size=2)"
      ],
      "execution_count": null,
      "outputs": [
        {
          "output_type": "execute_result",
          "data": {
            "text/plain": [
              "array([ 0.62943336, -0.4167389 ])"
            ]
          },
          "metadata": {
            "tags": []
          },
          "execution_count": 24
        }
      ]
    },
    {
      "cell_type": "code",
      "metadata": {
        "id": "Ju3cB72_G6Rm",
        "colab": {
          "base_uri": "https://localhost:8080/"
        },
        "outputId": "06f41b2d-b296-4850-9491-98711e34cbfe"
      },
      "source": [
        "np.random.rand(2, 4)"
      ],
      "execution_count": null,
      "outputs": [
        {
          "output_type": "execute_result",
          "data": {
            "text/plain": [
              "array([[0.12676571, 0.36792264, 0.72746006, 0.46346307],\n",
              "       [0.01158264, 0.57377684, 0.8979199 , 0.74606611]])"
            ]
          },
          "metadata": {
            "tags": []
          },
          "execution_count": 26
        }
      ]
    },
    {
      "cell_type": "markdown",
      "metadata": {
        "id": "rhLZBjc7H9Nv"
      },
      "source": [
        "####*arange*"
      ]
    },
    {
      "cell_type": "code",
      "metadata": {
        "id": "QYb0esugH8g1",
        "colab": {
          "base_uri": "https://localhost:8080/"
        },
        "outputId": "31b89dd2-8537-4620-9e89-06eff01ea2e8"
      },
      "source": [
        "np.arange(10)"
      ],
      "execution_count": null,
      "outputs": [
        {
          "output_type": "execute_result",
          "data": {
            "text/plain": [
              "array([0, 1, 2, 3, 4, 5, 6, 7, 8, 9])"
            ]
          },
          "metadata": {
            "tags": []
          },
          "execution_count": 27
        }
      ]
    },
    {
      "cell_type": "code",
      "metadata": {
        "id": "CJBFIs3nG6Xx",
        "colab": {
          "base_uri": "https://localhost:8080/"
        },
        "outputId": "7c82e6a8-5768-4817-ca0e-dd9eb321ee6d"
      },
      "source": [
        "np.arange(5, 10)"
      ],
      "execution_count": null,
      "outputs": [
        {
          "output_type": "execute_result",
          "data": {
            "text/plain": [
              "array([5, 6, 7, 8, 9])"
            ]
          },
          "metadata": {
            "tags": []
          },
          "execution_count": 28
        }
      ]
    },
    {
      "cell_type": "code",
      "metadata": {
        "id": "leXeK2geG6d7",
        "colab": {
          "base_uri": "https://localhost:8080/"
        },
        "outputId": "9f430c7e-db45-4bfd-92fe-7a7d2063d6c5"
      },
      "source": [
        "np.arange(0, 10, 2)"
      ],
      "execution_count": null,
      "outputs": [
        {
          "output_type": "execute_result",
          "data": {
            "text/plain": [
              "array([0, 2, 4, 6, 8])"
            ]
          },
          "metadata": {
            "tags": []
          },
          "execution_count": 29
        }
      ]
    },
    {
      "cell_type": "markdown",
      "metadata": {
        "id": "AC7U725CISAY"
      },
      "source": [
        "####*reshape*"
      ]
    },
    {
      "cell_type": "code",
      "metadata": {
        "id": "IasAO59HIRZI",
        "colab": {
          "base_uri": "https://localhost:8080/"
        },
        "outputId": "2160ea2a-4e5f-4f0e-d81e-c66068f95072"
      },
      "source": [
        "np.arange(10).reshape(2, 5)"
      ],
      "execution_count": null,
      "outputs": [
        {
          "output_type": "execute_result",
          "data": {
            "text/plain": [
              "array([[0, 1, 2, 3, 4],\n",
              "       [5, 6, 7, 8, 9]])"
            ]
          },
          "metadata": {
            "tags": []
          },
          "execution_count": 30
        }
      ]
    },
    {
      "cell_type": "code",
      "metadata": {
        "id": "oUcRSjtIG6kA",
        "colab": {
          "base_uri": "https://localhost:8080/"
        },
        "outputId": "23e40525-8e07-4449-e458-3a163ecde251"
      },
      "source": [
        "np.arange(9).reshape(3, 3)"
      ],
      "execution_count": null,
      "outputs": [
        {
          "output_type": "execute_result",
          "data": {
            "text/plain": [
              "array([[0, 1, 2],\n",
              "       [3, 4, 5],\n",
              "       [6, 7, 8]])"
            ]
          },
          "metadata": {
            "tags": []
          },
          "execution_count": 31
        }
      ]
    },
    {
      "cell_type": "markdown",
      "metadata": {
        "id": "_ev70mSxIgtC"
      },
      "source": [
        "####*linspace*"
      ]
    },
    {
      "cell_type": "code",
      "metadata": {
        "id": "snMN-mOOIics",
        "colab": {
          "base_uri": "https://localhost:8080/"
        },
        "outputId": "91d2468b-b59a-4772-8473-d5579a1b6fd3"
      },
      "source": [
        "np.linspace(0, 1, 5)"
      ],
      "execution_count": null,
      "outputs": [
        {
          "output_type": "execute_result",
          "data": {
            "text/plain": [
              "array([0.  , 0.25, 0.5 , 0.75, 1.  ])"
            ]
          },
          "metadata": {
            "tags": []
          },
          "execution_count": 32
        }
      ]
    },
    {
      "cell_type": "code",
      "metadata": {
        "id": "ePnvDvyLIiNz",
        "colab": {
          "base_uri": "https://localhost:8080/"
        },
        "outputId": "78f919b7-0059-48a6-b364-fd8adc07fb7a"
      },
      "source": [
        "np.linspace(0, 1, 10)"
      ],
      "execution_count": null,
      "outputs": [
        {
          "output_type": "execute_result",
          "data": {
            "text/plain": [
              "array([0.        , 0.11111111, 0.22222222, 0.33333333, 0.44444444,\n",
              "       0.55555556, 0.66666667, 0.77777778, 0.88888889, 1.        ])"
            ]
          },
          "metadata": {
            "tags": []
          },
          "execution_count": 38
        }
      ]
    },
    {
      "cell_type": "code",
      "metadata": {
        "id": "BNh2pqItIhtr",
        "colab": {
          "base_uri": "https://localhost:8080/"
        },
        "outputId": "94821ad7-36d3-46c8-df9b-b15fc9d71a7e"
      },
      "source": [
        "np.linspace(0, 1, 20, False)"
      ],
      "execution_count": null,
      "outputs": [
        {
          "output_type": "execute_result",
          "data": {
            "text/plain": [
              "array([0.  , 0.05, 0.1 , 0.15, 0.2 , 0.25, 0.3 , 0.35, 0.4 , 0.45, 0.5 ,\n",
              "       0.55, 0.6 , 0.65, 0.7 , 0.75, 0.8 , 0.85, 0.9 , 0.95])"
            ]
          },
          "metadata": {
            "tags": []
          },
          "execution_count": 36
        }
      ]
    },
    {
      "cell_type": "markdown",
      "metadata": {
        "id": "xNCxeIixI9nO"
      },
      "source": [
        "####*zero, ones and empty*"
      ]
    },
    {
      "cell_type": "code",
      "metadata": {
        "id": "HIkSFg7mI9Hf",
        "colab": {
          "base_uri": "https://localhost:8080/"
        },
        "outputId": "554fc88b-2deb-4f27-f7bb-a4477dba3739"
      },
      "source": [
        "np.zeros(5)"
      ],
      "execution_count": null,
      "outputs": [
        {
          "output_type": "execute_result",
          "data": {
            "text/plain": [
              "array([0., 0., 0., 0., 0.])"
            ]
          },
          "metadata": {
            "tags": []
          },
          "execution_count": 40
        }
      ]
    },
    {
      "cell_type": "code",
      "metadata": {
        "id": "2M06xTMAG6qJ",
        "colab": {
          "base_uri": "https://localhost:8080/"
        },
        "outputId": "5596b0f1-6b76-4613-9735-700c2e1ca6a0"
      },
      "source": [
        "np.zeros((3, 3))"
      ],
      "execution_count": null,
      "outputs": [
        {
          "output_type": "execute_result",
          "data": {
            "text/plain": [
              "array([[0., 0., 0.],\n",
              "       [0., 0., 0.],\n",
              "       [0., 0., 0.]])"
            ]
          },
          "metadata": {
            "tags": []
          },
          "execution_count": 41
        }
      ]
    },
    {
      "cell_type": "code",
      "metadata": {
        "id": "k35FddXZJOfW",
        "colab": {
          "base_uri": "https://localhost:8080/"
        },
        "outputId": "867b41da-b099-443c-febc-da511b74f202"
      },
      "source": [
        "np.ones(4)"
      ],
      "execution_count": null,
      "outputs": [
        {
          "output_type": "execute_result",
          "data": {
            "text/plain": [
              "array([1., 1., 1., 1.])"
            ]
          },
          "metadata": {
            "tags": []
          },
          "execution_count": 42
        }
      ]
    },
    {
      "cell_type": "code",
      "metadata": {
        "id": "B9apRLaxJOn9",
        "colab": {
          "base_uri": "https://localhost:8080/"
        },
        "outputId": "91adb728-f68e-443e-8d7d-d1ac651b08ce"
      },
      "source": [
        "np.ones([3, 3])"
      ],
      "execution_count": null,
      "outputs": [
        {
          "output_type": "execute_result",
          "data": {
            "text/plain": [
              "array([[1., 1., 1.],\n",
              "       [1., 1., 1.],\n",
              "       [1., 1., 1.]])"
            ]
          },
          "metadata": {
            "tags": []
          },
          "execution_count": 43
        }
      ]
    },
    {
      "cell_type": "code",
      "metadata": {
        "id": "5WVsM5_iJOvZ",
        "colab": {
          "base_uri": "https://localhost:8080/"
        },
        "outputId": "283f5d7f-3de5-414b-ae6d-59bc91d73616"
      },
      "source": [
        "np.empty(5)"
      ],
      "execution_count": null,
      "outputs": [
        {
          "output_type": "execute_result",
          "data": {
            "text/plain": [
              "array([0., 0., 0., 0., 0.])"
            ]
          },
          "metadata": {
            "tags": []
          },
          "execution_count": 44
        }
      ]
    },
    {
      "cell_type": "code",
      "metadata": {
        "id": "w0ncvKQCJO3S",
        "colab": {
          "base_uri": "https://localhost:8080/"
        },
        "outputId": "526054ed-6faa-403f-bbf3-3251e5390bd1"
      },
      "source": [
        "np.empty([3, 3])"
      ],
      "execution_count": null,
      "outputs": [
        {
          "output_type": "execute_result",
          "data": {
            "text/plain": [
              "array([[1., 1., 1.],\n",
              "       [1., 1., 1.],\n",
              "       [1., 1., 1.]])"
            ]
          },
          "metadata": {
            "tags": []
          },
          "execution_count": 45
        }
      ]
    },
    {
      "cell_type": "markdown",
      "metadata": {
        "id": "-KezsTvwJbGU"
      },
      "source": [
        "####*Code and Eye*"
      ]
    },
    {
      "cell_type": "code",
      "metadata": {
        "id": "7M8QmThVJaAc",
        "colab": {
          "base_uri": "https://localhost:8080/"
        },
        "outputId": "8440785c-448b-444c-fe96-822caefc6e9d"
      },
      "source": [
        "np.identity(3)"
      ],
      "execution_count": null,
      "outputs": [
        {
          "output_type": "execute_result",
          "data": {
            "text/plain": [
              "array([[1., 0., 0.],\n",
              "       [0., 1., 0.],\n",
              "       [0., 0., 1.]])"
            ]
          },
          "metadata": {
            "tags": []
          },
          "execution_count": 46
        }
      ]
    },
    {
      "cell_type": "code",
      "metadata": {
        "id": "x9FxDaLJJaKU",
        "colab": {
          "base_uri": "https://localhost:8080/"
        },
        "outputId": "f16b924e-f456-44f2-aac6-f39e1055ce56"
      },
      "source": [
        "np.eye(3, 3)"
      ],
      "execution_count": null,
      "outputs": [
        {
          "output_type": "execute_result",
          "data": {
            "text/plain": [
              "array([[1., 0., 0.],\n",
              "       [0., 1., 0.],\n",
              "       [0., 0., 1.]])"
            ]
          },
          "metadata": {
            "tags": []
          },
          "execution_count": 48
        }
      ]
    },
    {
      "cell_type": "code",
      "metadata": {
        "id": "rGhmN9KAJaT7",
        "colab": {
          "base_uri": "https://localhost:8080/"
        },
        "outputId": "41200312-3579-4d91-ceb0-c9e0e7abd35e"
      },
      "source": [
        "np.eye(8, 4)"
      ],
      "execution_count": null,
      "outputs": [
        {
          "output_type": "execute_result",
          "data": {
            "text/plain": [
              "array([[1., 0., 0., 0.],\n",
              "       [0., 1., 0., 0.],\n",
              "       [0., 0., 1., 0.],\n",
              "       [0., 0., 0., 1.],\n",
              "       [0., 0., 0., 0.],\n",
              "       [0., 0., 0., 0.],\n",
              "       [0., 0., 0., 0.],\n",
              "       [0., 0., 0., 0.]])"
            ]
          },
          "metadata": {
            "tags": []
          },
          "execution_count": 50
        }
      ]
    },
    {
      "cell_type": "code",
      "metadata": {
        "id": "3UZOQCkQJad7",
        "colab": {
          "base_uri": "https://localhost:8080/"
        },
        "outputId": "a6bf2baf-dfac-428f-96c6-de6c686dd1e3"
      },
      "source": [
        "np.eye(8, 4, k=1)"
      ],
      "execution_count": null,
      "outputs": [
        {
          "output_type": "execute_result",
          "data": {
            "text/plain": [
              "array([[0., 1., 0., 0.],\n",
              "       [0., 0., 1., 0.],\n",
              "       [0., 0., 0., 1.],\n",
              "       [0., 0., 0., 0.],\n",
              "       [0., 0., 0., 0.],\n",
              "       [0., 0., 0., 0.],\n",
              "       [0., 0., 0., 0.],\n",
              "       [0., 0., 0., 0.]])"
            ]
          },
          "metadata": {
            "tags": []
          },
          "execution_count": 51
        }
      ]
    },
    {
      "cell_type": "code",
      "metadata": {
        "id": "juk6lhlsJ8xo",
        "colab": {
          "base_uri": "https://localhost:8080/"
        },
        "outputId": "b9101c05-c45e-4e4c-9e0a-72b6e414f95f"
      },
      "source": [
        "np.eye(8, 4, k=-3)"
      ],
      "execution_count": null,
      "outputs": [
        {
          "output_type": "execute_result",
          "data": {
            "text/plain": [
              "array([[0., 0., 0., 0.],\n",
              "       [0., 0., 0., 0.],\n",
              "       [0., 0., 0., 0.],\n",
              "       [1., 0., 0., 0.],\n",
              "       [0., 1., 0., 0.],\n",
              "       [0., 0., 1., 0.],\n",
              "       [0., 0., 0., 1.],\n",
              "       [0., 0., 0., 0.]])"
            ]
          },
          "metadata": {
            "tags": []
          },
          "execution_count": 53
        }
      ]
    },
    {
      "cell_type": "code",
      "metadata": {
        "id": "KFf6QqY3KJDU",
        "colab": {
          "base_uri": "https://localhost:8080/",
          "height": 35
        },
        "outputId": "a48fd32e-8b1a-416c-f75f-93d1e1f7091c"
      },
      "source": [
        "\"Hello World\"[6]"
      ],
      "execution_count": null,
      "outputs": [
        {
          "output_type": "execute_result",
          "data": {
            "application/vnd.google.colaboratory.intrinsic+json": {
              "type": "string"
            },
            "text/plain": [
              "'W'"
            ]
          },
          "metadata": {
            "tags": []
          },
          "execution_count": 54
        }
      ]
    }
  ]
}